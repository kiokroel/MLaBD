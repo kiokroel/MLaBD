{
 "cells": [
  {
   "cell_type": "markdown",
   "id": "2391a8bc-70a1-4900-8bcc-9bf87ed909f2",
   "metadata": {},
   "source": [
    "Лабораторная работа №7. \"Полносвязные нейронные сети (многослойный персептрон). Решение задач регрессии и классификации\"\n",
    "\n",
    "Задание №1.\n",
    "Решить задачи регрессии и классификации на данных в соответствии с Вашим индивидуальным вариантом (см. Лаб.работы №3, 4), используя полносвязные НС; реализовать НС посредством API Keras и фреймворка TensorFlow; оценить качество полученных моделей с помощью метрик.\n",
    "\n",
    "Задание №2.\n",
    "Разработать многослойный персептрон (MLP), с помощью которого можно решать задачи регрессии и классификации. Предусмотреть возможность использования таких функции активации, как sigmoid, tanh и relu; также предусмотреть возможность указать, сколько слоев нужно, сколько на каждом из них нейронов и какую функцию активации должен иметь слой. Реализовать обучение MLP методом обратного распространения ошибки; самостоятельно найти производные функций sigmoid, tanh и relu; реализовать классический градиентный спуск с возможностью указания шага."
   ]
  },
  {
   "cell_type": "markdown",
   "id": "b1020955-df2f-4ba2-bf65-6f79f6c79cae",
   "metadata": {},
   "source": [
    "# Задание 1"
   ]
  },
  {
   "cell_type": "code",
   "execution_count": 1,
   "id": "a7c45041-2b3d-4e58-b69e-b9505af886dd",
   "metadata": {},
   "outputs": [],
   "source": [
    "import pandas as pd\n",
    "data_regression = pd.read_csv(\"../data/Lab3_Koren_Regression.csv\")\n",
    "data_classification = pd.read_csv(\"../data/card_transdata.csv\")"
   ]
  },
  {
   "cell_type": "code",
   "execution_count": 2,
   "id": "356765d9-74e7-4e85-8759-1f5b6402d1c1",
   "metadata": {},
   "outputs": [],
   "source": [
    "y_regression = data_regression[\"Price\"]\n",
    "X_regression = data_regression.drop(columns = ['Price'])\n",
    "y_classification = data_classification['fraud']\n",
    "X_classification = data_classification.drop(columns = ['fraud'])"
   ]
  },
  {
   "cell_type": "code",
   "execution_count": 3,
   "id": "f129512f-7684-4636-8285-ad60f1702ea9",
   "metadata": {},
   "outputs": [],
   "source": [
    "from sklearn.model_selection import train_test_split\n",
    "X_regression_train, X_regression_test, y_regression_train, y_regression_test = train_test_split(X_regression,\n",
    "                                                                                                y_regression,\n",
    "                                                                                                test_size=0.2)\n",
    "X_classification_train, X_classification_test, y_classification_train, y_classification_test = train_test_split(X_classification,\n",
    "                                                                                                                y_classification,\n",
    "                                                                                                                stratify=y_classification,\n",
    "                                                                                                                test_size=0.2)"
   ]
  },
  {
   "cell_type": "code",
   "execution_count": 4,
   "id": "6aa1d270-cf4a-4b85-a1d5-6c8ee4ee0d20",
   "metadata": {},
   "outputs": [],
   "source": [
    "from sklearn.metrics import mean_squared_error, mean_absolute_error\n",
    "from sklearn.metrics import confusion_matrix, classification_report"
   ]
  },
  {
   "cell_type": "code",
   "execution_count": 5,
   "id": "cf486f5e-54eb-4902-8ca9-b6f899b05a15",
   "metadata": {},
   "outputs": [],
   "source": [
    "import tensorflow as tf\n",
    "import numpy as np"
   ]
  },
  {
   "cell_type": "markdown",
   "id": "6b55c7bf-9429-45d7-9af7-af68989236e6",
   "metadata": {},
   "source": [
    "## Регрессия"
   ]
  },
  {
   "cell_type": "code",
   "execution_count": 6,
   "id": "bae5d6e3-6ba3-42d1-aaca-9b681c2388a4",
   "metadata": {},
   "outputs": [],
   "source": [
    "model_regression = tf.keras.Sequential(\n",
    "    [\n",
    "        tf.keras.layers.Dense(64, activation=\"relu\", input_shape=(934,)),\n",
    "        tf.keras.layers.Dense(32, activation=\"linear\"),\n",
    "        tf.keras.layers.Dropout(0.1),\n",
    "        tf.keras.layers.Dense(16, activation=\"relu\"),\n",
    "        tf.keras.layers.Dropout(0.1),\n",
    "        tf.keras.layers.Dense(1, activation=\"linear\"),\n",
    "    ]\n",
    ")"
   ]
  },
  {
   "cell_type": "code",
   "execution_count": 7,
   "id": "750c79ec-3698-4313-a8d6-7e252ad5ca22",
   "metadata": {},
   "outputs": [
    {
     "name": "stdout",
     "output_type": "stream",
     "text": [
      "Model: \"sequential\"\n",
      "_________________________________________________________________\n",
      " Layer (type)                Output Shape              Param #   \n",
      "=================================================================\n",
      " dense (Dense)               (None, 64)                59840     \n",
      "                                                                 \n",
      " dense_1 (Dense)             (None, 32)                2080      \n",
      "                                                                 \n",
      " dropout (Dropout)           (None, 32)                0         \n",
      "                                                                 \n",
      " dense_2 (Dense)             (None, 16)                528       \n",
      "                                                                 \n",
      " dropout_1 (Dropout)         (None, 16)                0         \n",
      "                                                                 \n",
      " dense_3 (Dense)             (None, 1)                 17        \n",
      "                                                                 \n",
      "=================================================================\n",
      "Total params: 62465 (244.00 KB)\n",
      "Trainable params: 62465 (244.00 KB)\n",
      "Non-trainable params: 0 (0.00 Byte)\n",
      "_________________________________________________________________\n"
     ]
    }
   ],
   "source": [
    "model_regression.summary()"
   ]
  },
  {
   "cell_type": "code",
   "execution_count": 8,
   "id": "baf8fd05-3da0-4187-b4e0-1c47eecd726e",
   "metadata": {},
   "outputs": [],
   "source": [
    "model_regression.compile(optimizer=tf.keras.optimizers.Adam(learning_rate=0.005), loss=\"mse\")"
   ]
  },
  {
   "cell_type": "code",
   "execution_count": 9,
   "id": "1093d08a-ba30-4f40-8761-550b47638c7d",
   "metadata": {
    "scrolled": true
   },
   "outputs": [
    {
     "name": "stdout",
     "output_type": "stream",
     "text": [
      "Epoch 1/50\n",
      "735/735 [==============================] - 2s 867us/step - loss: 27765932.0000\n",
      "Epoch 2/50\n",
      "735/735 [==============================] - 1s 830us/step - loss: 22182992.0000\n",
      "Epoch 3/50\n",
      "735/735 [==============================] - 1s 832us/step - loss: 21723636.0000\n",
      "Epoch 4/50\n",
      "735/735 [==============================] - 1s 825us/step - loss: 22027442.0000\n",
      "Epoch 5/50\n",
      "735/735 [==============================] - 1s 829us/step - loss: 21467640.0000\n",
      "Epoch 6/50\n",
      "735/735 [==============================] - 1s 830us/step - loss: 21569520.0000\n",
      "Epoch 7/50\n",
      "735/735 [==============================] - 1s 830us/step - loss: 21368306.0000\n",
      "Epoch 8/50\n",
      "735/735 [==============================] - 1s 837us/step - loss: 21450506.0000\n",
      "Epoch 9/50\n",
      "735/735 [==============================] - 1s 859us/step - loss: 21413906.0000\n",
      "Epoch 10/50\n",
      "735/735 [==============================] - 1s 839us/step - loss: 21011208.0000\n",
      "Epoch 11/50\n",
      "735/735 [==============================] - 1s 834us/step - loss: 21253616.0000\n",
      "Epoch 12/50\n",
      "735/735 [==============================] - 1s 833us/step - loss: 21177808.0000\n",
      "Epoch 13/50\n",
      "735/735 [==============================] - 1s 870us/step - loss: 20887546.0000\n",
      "Epoch 14/50\n",
      "735/735 [==============================] - 1s 873us/step - loss: 21027670.0000\n",
      "Epoch 15/50\n",
      "735/735 [==============================] - 1s 883us/step - loss: 21176366.0000\n",
      "Epoch 16/50\n",
      "735/735 [==============================] - 1s 852us/step - loss: 21012732.0000\n",
      "Epoch 17/50\n",
      "735/735 [==============================] - 1s 832us/step - loss: 20678082.0000\n",
      "Epoch 18/50\n",
      "735/735 [==============================] - 1s 832us/step - loss: 20811390.0000\n",
      "Epoch 19/50\n",
      "735/735 [==============================] - 1s 833us/step - loss: 20695438.0000\n",
      "Epoch 20/50\n",
      "735/735 [==============================] - 1s 826us/step - loss: 20755260.0000\n",
      "Epoch 21/50\n",
      "735/735 [==============================] - 1s 832us/step - loss: 20767264.0000\n",
      "Epoch 22/50\n",
      "735/735 [==============================] - 1s 833us/step - loss: 20736768.0000\n",
      "Epoch 23/50\n",
      "735/735 [==============================] - 1s 822us/step - loss: 20803254.0000\n",
      "Epoch 24/50\n",
      "735/735 [==============================] - 1s 836us/step - loss: 20703560.0000\n",
      "Epoch 25/50\n",
      "735/735 [==============================] - 1s 870us/step - loss: 20534090.0000\n",
      "Epoch 26/50\n",
      "735/735 [==============================] - 1s 864us/step - loss: 20692624.0000\n",
      "Epoch 27/50\n",
      "735/735 [==============================] - 1s 862us/step - loss: 20518420.0000\n",
      "Epoch 28/50\n",
      "735/735 [==============================] - 1s 853us/step - loss: 20318322.0000\n",
      "Epoch 29/50\n",
      "735/735 [==============================] - 1s 878us/step - loss: 20750108.0000\n",
      "Epoch 30/50\n",
      "735/735 [==============================] - 1s 876us/step - loss: 20531860.0000\n",
      "Epoch 31/50\n",
      "735/735 [==============================] - 1s 873us/step - loss: 20231940.0000\n",
      "Epoch 32/50\n",
      "735/735 [==============================] - 1s 883us/step - loss: 20295972.0000\n",
      "Epoch 33/50\n",
      "735/735 [==============================] - 1s 873us/step - loss: 20397806.0000\n",
      "Epoch 34/50\n",
      "735/735 [==============================] - 1s 887us/step - loss: 20247254.0000\n",
      "Epoch 35/50\n",
      "735/735 [==============================] - 1s 840us/step - loss: 20350648.0000\n",
      "Epoch 36/50\n",
      "735/735 [==============================] - 1s 881us/step - loss: 20263122.0000\n",
      "Epoch 37/50\n",
      "735/735 [==============================] - 1s 919us/step - loss: 20145052.0000\n",
      "Epoch 38/50\n",
      "735/735 [==============================] - 1s 887us/step - loss: 20350580.0000\n",
      "Epoch 39/50\n",
      "735/735 [==============================] - 1s 853us/step - loss: 20219456.0000\n",
      "Epoch 40/50\n",
      "735/735 [==============================] - 1s 884us/step - loss: 20186628.0000\n",
      "Epoch 41/50\n",
      "735/735 [==============================] - 1s 863us/step - loss: 20279864.0000\n",
      "Epoch 42/50\n",
      "735/735 [==============================] - 1s 870us/step - loss: 20107070.0000\n",
      "Epoch 43/50\n",
      "735/735 [==============================] - 1s 843us/step - loss: 19780880.0000\n",
      "Epoch 44/50\n",
      "735/735 [==============================] - 1s 833us/step - loss: 20049070.0000\n",
      "Epoch 45/50\n",
      "735/735 [==============================] - 1s 838us/step - loss: 19889920.0000\n",
      "Epoch 46/50\n",
      "735/735 [==============================] - 1s 839us/step - loss: 19724774.0000\n",
      "Epoch 47/50\n",
      "735/735 [==============================] - 1s 819us/step - loss: 19694386.0000\n",
      "Epoch 48/50\n",
      "735/735 [==============================] - 1s 834us/step - loss: 19890538.0000\n",
      "Epoch 49/50\n",
      "735/735 [==============================] - 1s 826us/step - loss: 19790890.0000\n",
      "Epoch 50/50\n",
      "735/735 [==============================] - 1s 847us/step - loss: 19904378.0000\n"
     ]
    },
    {
     "data": {
      "text/plain": [
       "<keras.src.callbacks.History at 0x20c2757c5e0>"
      ]
     },
     "execution_count": 9,
     "metadata": {},
     "output_type": "execute_result"
    }
   ],
   "source": [
    "model_regression.fit(X_regression_train, y_regression_train, epochs=50)"
   ]
  },
  {
   "cell_type": "code",
   "execution_count": 10,
   "id": "96299d7c-8642-4e08-ba87-f0f273606367",
   "metadata": {},
   "outputs": [
    {
     "name": "stdout",
     "output_type": "stream",
     "text": [
      "184/184 [==============================] - 0s 501us/step\n",
      "3171.9712924009445\n",
      "184/184 [==============================] - 0s 535us/step\n",
      "17408816.672156088\n"
     ]
    }
   ],
   "source": [
    "print(mean_absolute_error(y_regression_test, model_regression.predict(X_regression_test)))\n",
    "print(mean_squared_error(y_regression_test, model_regression.predict(X_regression_test)))"
   ]
  },
  {
   "cell_type": "markdown",
   "id": "5fd9b412-466a-43d3-807c-c99334892907",
   "metadata": {},
   "source": [
    "## Классификация"
   ]
  },
  {
   "cell_type": "code",
   "execution_count": 11,
   "id": "7b4c429b-1050-4e9e-b3e5-bd703c967117",
   "metadata": {
    "scrolled": true
   },
   "outputs": [
    {
     "name": "stdout",
     "output_type": "stream",
     "text": [
      "Epoch 1/25\n",
      "25000/25000 [==============================] - 18s 688us/step - loss: 0.0160\n",
      "Epoch 2/25\n",
      "25000/25000 [==============================] - 17s 694us/step - loss: 0.0063\n",
      "Epoch 3/25\n",
      "25000/25000 [==============================] - 17s 682us/step - loss: 0.0054\n",
      "Epoch 4/25\n",
      "25000/25000 [==============================] - 17s 697us/step - loss: 0.0045\n",
      "Epoch 5/25\n",
      "25000/25000 [==============================] - 17s 681us/step - loss: 0.0043\n",
      "Epoch 6/25\n",
      "25000/25000 [==============================] - 18s 703us/step - loss: 0.0044\n",
      "Epoch 7/25\n",
      "25000/25000 [==============================] - 18s 707us/step - loss: 0.0039\n",
      "Epoch 8/25\n",
      "25000/25000 [==============================] - 18s 703us/step - loss: 0.0038\n",
      "Epoch 9/25\n",
      "25000/25000 [==============================] - 17s 676us/step - loss: 0.0039\n",
      "Epoch 10/25\n",
      "25000/25000 [==============================] - 17s 686us/step - loss: 0.0035\n",
      "Epoch 11/25\n",
      "25000/25000 [==============================] - 18s 707us/step - loss: 0.0033\n",
      "Epoch 12/25\n",
      "25000/25000 [==============================] - 17s 685us/step - loss: 0.0037\n",
      "Epoch 13/25\n",
      "25000/25000 [==============================] - 17s 682us/step - loss: 0.0033\n",
      "Epoch 14/25\n",
      "25000/25000 [==============================] - 17s 681us/step - loss: 0.0032\n",
      "Epoch 15/25\n",
      "25000/25000 [==============================] - 17s 685us/step - loss: 0.0031\n",
      "Epoch 16/25\n",
      "25000/25000 [==============================] - 17s 678us/step - loss: 0.0031\n",
      "Epoch 17/25\n",
      "25000/25000 [==============================] - 17s 675us/step - loss: 0.0031\n",
      "Epoch 18/25\n",
      "25000/25000 [==============================] - 17s 690us/step - loss: 0.0029\n",
      "Epoch 19/25\n",
      "25000/25000 [==============================] - 17s 676us/step - loss: 0.0030\n",
      "Epoch 20/25\n",
      "25000/25000 [==============================] - 17s 692us/step - loss: 0.0032\n",
      "Epoch 21/25\n",
      "25000/25000 [==============================] - 17s 677us/step - loss: 0.0030\n",
      "Epoch 22/25\n",
      "25000/25000 [==============================] - 17s 689us/step - loss: 0.0030\n",
      "Epoch 23/25\n",
      "25000/25000 [==============================] - 17s 676us/step - loss: 0.0031\n",
      "Epoch 24/25\n",
      "25000/25000 [==============================] - 17s 700us/step - loss: 0.0030\n",
      "Epoch 25/25\n",
      "25000/25000 [==============================] - 17s 688us/step - loss: 0.0030\n"
     ]
    },
    {
     "data": {
      "text/plain": [
       "<keras.src.callbacks.History at 0x20c441e7d90>"
      ]
     },
     "execution_count": 11,
     "metadata": {},
     "output_type": "execute_result"
    }
   ],
   "source": [
    "model_classification_1 = tf.keras.Sequential(\n",
    "    [\n",
    "        tf.keras.layers.Dense(64, activation=\"relu\", input_shape=(7,)),\n",
    "        tf.keras.layers.Dense(128, activation=\"relu\"),\n",
    "        tf.keras.layers.Dropout(0.05),\n",
    "        tf.keras.layers.Dense(64, activation=\"relu\"),\n",
    "        tf.keras.layers.Dense(32, activation=\"relu\"),\n",
    "        tf.keras.layers.Dense(16, activation=\"relu\"),\n",
    "        tf.keras.layers.Dense(1, activation=\"sigmoid\"),\n",
    "    ]\n",
    ")\n",
    "model_classification_1.compile(optimizer=tf.keras.optimizers.Adam(learning_rate=0.001), loss=\"mse\")\n",
    "# verbose=None - не будет логов\n",
    "model_classification_1.fit(X_classification_train, y_classification_train, epochs=25)"
   ]
  },
  {
   "cell_type": "code",
   "execution_count": 12,
   "id": "239e8b10-bc14-44de-8b09-73179a615807",
   "metadata": {},
   "outputs": [
    {
     "data": {
      "text/plain": [
       "array([[0.0000000e+00],\n",
       "       [4.2081996e-22],\n",
       "       [0.0000000e+00],\n",
       "       [0.0000000e+00],\n",
       "       [0.0000000e+00]], dtype=float32)"
      ]
     },
     "execution_count": 12,
     "metadata": {},
     "output_type": "execute_result"
    }
   ],
   "source": [
    "model_classification_1.predict(X_classification_test, verbose=None)[:5]"
   ]
  },
  {
   "cell_type": "code",
   "execution_count": 13,
   "id": "e53249f5-5f99-46c7-87a9-0629f306958c",
   "metadata": {},
   "outputs": [
    {
     "name": "stdout",
     "output_type": "stream",
     "text": [
      "              precision    recall  f1-score   support\n",
      "\n",
      "         0.0       1.00      1.00      1.00    182519\n",
      "         1.0       0.99      0.96      0.98     17481\n",
      "\n",
      "    accuracy                           1.00    200000\n",
      "   macro avg       0.99      0.98      0.99    200000\n",
      "weighted avg       1.00      1.00      1.00    200000\n",
      "\n",
      "[[182304    215]\n",
      " [   613  16868]]\n"
     ]
    }
   ],
   "source": [
    "y_pred = np.around(model_classification_1.predict(X_classification_test, verbose=None))\n",
    "print(classification_report(y_classification_test, y_pred))\n",
    "print(confusion_matrix(y_classification_test, y_pred))"
   ]
  },
  {
   "cell_type": "code",
   "execution_count": 14,
   "id": "2219c79e-328f-4239-9e6f-8460f57a6223",
   "metadata": {},
   "outputs": [],
   "source": [
    "w0 = 1 / y_classification_train[y_classification_train==0].shape[0]\n",
    "w1 = 1 / y_classification_train[y_classification_train==1].shape[0]"
   ]
  },
  {
   "cell_type": "code",
   "execution_count": 15,
   "id": "0225df92-d54d-4fc1-a821-6d441a9aee41",
   "metadata": {},
   "outputs": [
    {
     "name": "stdout",
     "output_type": "stream",
     "text": [
      "              precision    recall  f1-score   support\n",
      "\n",
      "         0.0       1.00      0.99      0.99    182519\n",
      "         1.0       0.88      1.00      0.94     17481\n",
      "\n",
      "    accuracy                           0.99    200000\n",
      "   macro avg       0.94      0.99      0.96    200000\n",
      "weighted avg       0.99      0.99      0.99    200000\n",
      "\n",
      "[[180153   2366]\n",
      " [    29  17452]]\n"
     ]
    }
   ],
   "source": [
    "model_classification_1 = tf.keras.Sequential(\n",
    "    [\n",
    "        tf.keras.layers.Dense(64, activation=\"relu\", input_shape=(7,)),\n",
    "        tf.keras.layers.Dense(128, activation=\"relu\"),\n",
    "        tf.keras.layers.Dropout(0.05),\n",
    "        tf.keras.layers.Dense(64, activation=\"relu\"),\n",
    "        tf.keras.layers.Dense(32, activation=\"relu\"),\n",
    "        tf.keras.layers.Dense(16, activation=\"relu\"),\n",
    "        # используем 1 нейрон и sigmoid\n",
    "        tf.keras.layers.Dense(1, activation=\"sigmoid\"),\n",
    "    ]\n",
    ")\n",
    "model_classification_1.compile(optimizer=tf.keras.optimizers.Adam(learning_rate=0.005), loss=\"binary_crossentropy\")\n",
    "model_classification_1.fit(X_classification_train, y_classification_train, epochs=25, verbose=None,\n",
    "                           class_weight={0: w0, 1: w1})\n",
    "y_pred = np.around(model_classification_1.predict(X_classification_test, verbose=None))\n",
    "print(classification_report(y_classification_test, y_pred))\n",
    "print(confusion_matrix(y_classification_test, y_pred))"
   ]
  },
  {
   "cell_type": "code",
   "execution_count": 16,
   "id": "46aab042-1903-49c8-9b22-54a665115ae7",
   "metadata": {},
   "outputs": [
    {
     "name": "stdout",
     "output_type": "stream",
     "text": [
      "Epoch 1/25\n",
      "25000/25000 [==============================] - 19s 734us/step - loss: 3.5355e-07\n",
      "Epoch 2/25\n",
      "25000/25000 [==============================] - 18s 718us/step - loss: 2.2818e-07\n",
      "Epoch 3/25\n",
      "25000/25000 [==============================] - 18s 731us/step - loss: 2.0551e-07\n",
      "Epoch 4/25\n",
      "25000/25000 [==============================] - 18s 717us/step - loss: 1.8677e-07\n",
      "Epoch 5/25\n",
      "25000/25000 [==============================] - 18s 700us/step - loss: 1.8882e-07\n",
      "Epoch 6/25\n",
      "25000/25000 [==============================] - 18s 719us/step - loss: 1.5612e-07\n",
      "Epoch 7/25\n",
      "25000/25000 [==============================] - 17s 693us/step - loss: 1.4682e-07\n",
      "Epoch 8/25\n",
      "25000/25000 [==============================] - 18s 706us/step - loss: 1.2808e-07\n",
      "Epoch 9/25\n",
      "25000/25000 [==============================] - 18s 716us/step - loss: 1.3091e-07\n",
      "Epoch 10/25\n",
      "25000/25000 [==============================] - 18s 729us/step - loss: 1.2727e-07\n",
      "Epoch 11/25\n",
      "25000/25000 [==============================] - 18s 716us/step - loss: 1.1055e-07\n",
      "Epoch 12/25\n",
      "25000/25000 [==============================] - 18s 716us/step - loss: 1.1496e-07\n",
      "Epoch 13/25\n",
      "25000/25000 [==============================] - 18s 729us/step - loss: 1.2174e-07\n",
      "Epoch 14/25\n",
      "25000/25000 [==============================] - 18s 708us/step - loss: 1.0797e-07\n",
      "Epoch 15/25\n",
      "25000/25000 [==============================] - 18s 710us/step - loss: 1.0289e-07\n",
      "Epoch 16/25\n",
      "25000/25000 [==============================] - 18s 729us/step - loss: 1.1846e-07\n",
      "Epoch 17/25\n",
      "25000/25000 [==============================] - 18s 734us/step - loss: 1.0460e-07\n",
      "Epoch 18/25\n",
      "25000/25000 [==============================] - 18s 707us/step - loss: 1.0056e-07\n",
      "Epoch 19/25\n",
      "25000/25000 [==============================] - 18s 710us/step - loss: 9.0420e-08\n",
      "Epoch 20/25\n",
      "25000/25000 [==============================] - 18s 706us/step - loss: 9.4851e-08\n",
      "Epoch 21/25\n",
      "25000/25000 [==============================] - 18s 724us/step - loss: 8.5109e-08\n",
      "Epoch 22/25\n",
      "25000/25000 [==============================] - 18s 712us/step - loss: 1.0048e-07\n",
      "Epoch 23/25\n",
      "25000/25000 [==============================] - 18s 715us/step - loss: 9.7254e-08\n",
      "Epoch 24/25\n",
      "25000/25000 [==============================] - 18s 722us/step - loss: 8.9895e-08\n",
      "Epoch 25/25\n",
      "25000/25000 [==============================] - 18s 736us/step - loss: 7.9076e-08\n"
     ]
    },
    {
     "data": {
      "text/plain": [
       "<keras.src.callbacks.History at 0x20c8c0e1c60>"
      ]
     },
     "execution_count": 16,
     "metadata": {},
     "output_type": "execute_result"
    }
   ],
   "source": [
    "model_classification_2 = tf.keras.Sequential(\n",
    "    [\n",
    "        tf.keras.layers.Dense(64, activation=\"relu\", input_shape=(7,)),\n",
    "        tf.keras.layers.Dense(128, activation=\"relu\"),\n",
    "        tf.keras.layers.Dropout(0.05),\n",
    "        tf.keras.layers.Dense(64, activation=\"relu\"),\n",
    "        tf.keras.layers.Dense(32, activation=\"relu\"),\n",
    "        tf.keras.layers.Dense(16, activation=\"relu\"),\n",
    "        # сначала используем 2 нейрона и softmax\n",
    "        tf.keras.layers.Dense(2, activation=\"softmax\"),\n",
    "    ]\n",
    ")\n",
    "\n",
    "model_classification_2.compile(optimizer=tf.keras.optimizers.Adam(learning_rate=0.005), loss=\"sparse_categorical_crossentropy\")\n",
    "model_classification_2.fit(X_classification_train, y_classification_train, epochs=25,\n",
    "                           class_weight={0: w0, 1: w1})"
   ]
  },
  {
   "cell_type": "code",
   "execution_count": 17,
   "id": "e1776ad2-048f-40a4-b05f-d8e58ee08d5b",
   "metadata": {},
   "outputs": [
    {
     "data": {
      "text/plain": [
       "array([[9.9999988e-01, 8.8236753e-08],\n",
       "       [9.9999952e-01, 4.5386872e-07],\n",
       "       [9.9999964e-01, 3.5827838e-07],\n",
       "       [9.9999964e-01, 3.5827838e-07],\n",
       "       [1.0000000e+00, 3.6016301e-09]], dtype=float32)"
      ]
     },
     "execution_count": 17,
     "metadata": {},
     "output_type": "execute_result"
    }
   ],
   "source": [
    "model_classification_2.predict(X_classification_test, verbose=None)[:5]"
   ]
  },
  {
   "cell_type": "code",
   "execution_count": 18,
   "id": "aa5b7a65-f31f-41d3-860a-492c98e663fc",
   "metadata": {},
   "outputs": [],
   "source": [
    "y_pred = [np.argmax(pred) for pred in model_classification_2.predict(X_classification_test, verbose=None)]"
   ]
  },
  {
   "cell_type": "code",
   "execution_count": 19,
   "id": "d62851e3-36b9-4772-9d86-8a7514687c4e",
   "metadata": {},
   "outputs": [
    {
     "name": "stdout",
     "output_type": "stream",
     "text": [
      "              precision    recall  f1-score   support\n",
      "\n",
      "         0.0       1.00      0.99      0.99    182519\n",
      "         1.0       0.91      1.00      0.95     17481\n",
      "\n",
      "    accuracy                           0.99    200000\n",
      "   macro avg       0.95      0.99      0.97    200000\n",
      "weighted avg       0.99      0.99      0.99    200000\n",
      "\n",
      "[[180734   1785]\n",
      " [    69  17412]]\n"
     ]
    }
   ],
   "source": [
    "print(classification_report(y_classification_test, y_pred))\n",
    "print(confusion_matrix(y_classification_test, y_pred))"
   ]
  },
  {
   "cell_type": "code",
   "execution_count": 20,
   "id": "5afa7070-eb2b-42fa-b5fb-1d1354b378cf",
   "metadata": {},
   "outputs": [
    {
     "name": "stdout",
     "output_type": "stream",
     "text": [
      "INFO:tensorflow:Assets written to: ../models/RegressionModel\\assets\n"
     ]
    },
    {
     "name": "stderr",
     "output_type": "stream",
     "text": [
      "INFO:tensorflow:Assets written to: ../models/RegressionModel\\assets\n"
     ]
    },
    {
     "name": "stdout",
     "output_type": "stream",
     "text": [
      "INFO:tensorflow:Assets written to: ../models/ClassificationModel1\\assets\n"
     ]
    },
    {
     "name": "stderr",
     "output_type": "stream",
     "text": [
      "INFO:tensorflow:Assets written to: ../models/ClassificationModel1\\assets\n"
     ]
    },
    {
     "name": "stdout",
     "output_type": "stream",
     "text": [
      "INFO:tensorflow:Assets written to: ../models/ClassificationModel2\\assets\n"
     ]
    },
    {
     "name": "stderr",
     "output_type": "stream",
     "text": [
      "INFO:tensorflow:Assets written to: ../models/ClassificationModel2\\assets\n"
     ]
    }
   ],
   "source": [
    "model_regression.save('../models/RegressionModel')\n",
    "model_classification_1.save('../models/ClassificationModel1')\n",
    "model_classification_2.save('../models/ClassificationModel2')"
   ]
  },
  {
   "cell_type": "code",
   "execution_count": 21,
   "id": "ccc1d0d4-f0dd-4c5e-949b-ddbbe6328512",
   "metadata": {},
   "outputs": [],
   "source": [
    "#model_regression_restored = tf.keras.models.load_model('../models/RegressionModel')\n",
    "#model_regression_restored.summary()"
   ]
  },
  {
   "cell_type": "markdown",
   "id": "564c72d4-0c99-4f8a-b4c8-2ccf87468c58",
   "metadata": {},
   "source": [
    "# Задание 2"
   ]
  },
  {
   "cell_type": "code",
   "execution_count": null,
   "id": "43ef7388-145f-46c8-8595-16ad2947cd3a",
   "metadata": {},
   "outputs": [],
   "source": [
    "import numpy as np\n",
    "\n",
    "class MLP:\n",
    "    def __init__(self, layer_sizes, activation_functions):\n",
    "        self.num_layers = len(layer_sizes)\n",
    "        self.layer_sizes = layer_sizes\n",
    "        self.activation_functions = activation_functions\n",
    "        self.weights = [np.random.randn(layer_sizes[i], layer_sizes[i-1]) for i in range(1, self.num_layers)]\n",
    "        self.biases = [np.random.randn(layer_sizes[i], 1) for i in range(1, self.num_layers)]\n",
    "\n",
    "    def _sigmoid(self, x):\n",
    "        return 1.0 / (1.0 + np.exp(-x))\n",
    "\n",
    "    def _sigmoid_derivative(self, x):\n",
    "        return self._sigmoid(x) * (1 - self._sigmoid(x))\n",
    "\n",
    "    def _tanh(self, x):\n",
    "        return np.tanh(x)\n",
    "\n",
    "    def _tanh_derivative(self, x):\n",
    "        return 1 - np.tanh(x)**2\n",
    "\n",
    "    def _relu(self, x):\n",
    "        return np.maximum(0, x)\n",
    "\n",
    "    def _relu_derivative(self, x):\n",
    "        return np.where(x > 0, 1, 0)\n",
    "\n",
    "    def _feed_forward(self, x):\n",
    "        # х-ый элеменет\n",
    "        activations = [x]\n",
    "        zs = []\n",
    "        for i in range(self.num_layers - 1):\n",
    "            weight = self.weights[i]\n",
    "            bias = self.biases[i]\n",
    "            activation_fn = self.activation_functions[i]\n",
    "            #умножаем матрицу весов на вектор активаций последнего слоя + вектор смещения\n",
    "            z = np.dot(weight, activations[-1]) + bias\n",
    "            zs.append(z)\n",
    "            if activation_fn == 'sigmoid':\n",
    "                a = self._sigmoid(z)\n",
    "            elif activation_fn == 'tanh':\n",
    "                a = self._tanh(z)\n",
    "            elif activation_fn == 'relu':\n",
    "                a = self._relu(z)\n",
    "            activations.append(a)\n",
    "        return activations, zs\n",
    "\n",
    "    def _backpropagate(self, x, y):\n",
    "        # накопление градиентов функции потерь по весам и смещениям в каждом слое сети\n",
    "        delta_weights = [np.zeros(weight.shape) for weight in self.weights]\n",
    "        delta_biases = [np.zeros(bias.shape) for bias in self.biases]\n",
    "        # прямой проход сети для входных данных x, и сохраняются активации и взвешенные суммы для каждого слоя \n",
    "        activations, zs = self._feed_forward(x)\n",
    "        #разница между предсказанными активациями и фактическими значениями целевой переменной\n",
    "        delta = (activations[-1] - y) \n",
    "        for i in range(self.num_layers - 2, -1, -1):\n",
    "            # Получение взвешенной суммы\n",
    "            z = zs[i]\n",
    "            activation_fn = self.activation_functions[i]\n",
    "            if activation_fn == 'sigmoid':\n",
    "                derivative = self._sigmoid_derivative(z)\n",
    "            elif activation_fn == 'tanh':\n",
    "                derivative = self._tanh_derivative(z)\n",
    "            elif activation_fn == 'relu':\n",
    "                derivative = self._relu_derivative(z)\n",
    "            #Вычисление градиента по весам для текущего слоя\n",
    "            delta_weights[i] = np.dot(delta, activations[i].T)\n",
    "            delta_biases[i] = delta\n",
    "            delta = np.dot(self.weights[i].T, delta) * derivative\n",
    "        return delta_weights, delta_biases\n",
    "\n",
    "    def fit(self, X_train, y_train, learning_rate, num_epochs):\n",
    "        for epoch in range(num_epochs):\n",
    "            for x, y in zip(X_train, y_train):\n",
    "                x = np.array(x, ndmin=2).T\n",
    "                y = np.array(y, ndmin=2).T\n",
    "                delta_weights, delta_biases = self._backpropagate(x, y)\n",
    "                self.weights = [weight - learning_rate * d_weight for weight, d_weight in zip(self.weights, delta_weights)]\n",
    "                self.biases = [bias - learning_rate * d_bias for bias, d_bias in zip(self.biases, delta_biases)]\n",
    "\n",
    "    def predict(self, X_test):\n",
    "        predictions = []\n",
    "        for x in X_test:\n",
    "            # массив минимум 2мерный и транспонируем\n",
    "            x = np.array(x, ndmin=2).T\n",
    "            activations, _ = self._feed_forward(x)\n",
    "            predictions.append(activations[-1])\n",
    "        return predictions"
   ]
  },
  {
   "cell_type": "code",
   "execution_count": null,
   "id": "f71e0125-9a02-4394-8a04-90c1b60649e2",
   "metadata": {},
   "outputs": [],
   "source": [
    "X_train_regression = np.asarray(X_train_regression, dtype=np.float64)\n",
    "y_train_regression = np.asarray(y_train_regression, dtype=np.float64).reshape(-1, 1)\n",
    "# Создание объекта MLP для регрессии\n",
    "mlp_regression = MLP([13, 1, 1], ['sigmoid', 'sigmoid'])\n",
    "\n",
    "# Обучаем модель\n",
    "mlp_regression.fit(X_train_regression, y_train_regression, learning_rate=0.05, num_epochs=10)\n",
    "\n",
    "X_test_regression = np.asarray(X_test_regression, dtype=np.float64)\n",
    "# Получаем предсказания модели\n",
    "predictions_regression = mlp_regression.predict(X_test_regression)"
   ]
  },
  {
   "cell_type": "code",
   "execution_count": null,
   "id": "9dba6b77-68f5-46cb-9dbe-951efdc5891a",
   "metadata": {},
   "outputs": [],
   "source": [
    "predictions_regression = np.asarray(predictions_regression, dtype=np.float64).reshape(-1, 1)"
   ]
  },
  {
   "cell_type": "code",
   "execution_count": null,
   "id": "68f0883d-e56a-48ef-ba5b-e5b1ae7908e2",
   "metadata": {},
   "outputs": [],
   "source": [
    "y_test_regression = np.asarray(y_test_regression, dtype=np.float64).reshape(-1, 1)\n",
    "from sklearn.metrics import r2_score\n",
    "print(mean_absolute_error(y_test_regression, predictions_regression))\n",
    "print(mean_squared_error(y_test_regression, predictions_regression))\n",
    "print(r2_score(y_test_regression, predictions_regression))"
   ]
  },
  {
   "cell_type": "code",
   "execution_count": null,
   "id": "91b4988e-5629-4150-addd-2641b41bee08",
   "metadata": {},
   "outputs": [],
   "source": [
    "mlp_classifier = MLP([14, 1, 1, 1], ['tanh', 'relu', 'sigmoid'])\n",
    "\n",
    "mlp_classifier.fit(X_train_classifier, y_train_classifier, learning_rate=0.05, num_epochs=10)\n",
    "\n",
    "X_test_classifier = np.asarray(X_test_classifier, dtype=np.float64)\n",
    "# Получаем предсказания модели\n",
    "predictions_classifier = mlp_classifier.predict(X_test_classifier)"
   ]
  },
  {
   "cell_type": "code",
   "execution_count": null,
   "id": "a16d0ba2-e166-4db4-8bcd-1002638deb40",
   "metadata": {},
   "outputs": [],
   "source": [
    "predictions_classifier=np.asarray(predictions_classifier, dtype=np.float64).reshape(-1, 1)"
   ]
  },
  {
   "cell_type": "code",
   "execution_count": null,
   "id": "25a010c3-618b-49da-9bf4-b285a8cefa61",
   "metadata": {},
   "outputs": [],
   "source": [
    "from sklearn.metrics import accuracy_score\n",
    "accuracy = accuracy_score(y_test_classifier, predictions_classifier[:1253])\n",
    "print(\"Accuracy:\", accuracy)"
   ]
  },
  {
   "cell_type": "code",
   "execution_count": null,
   "id": "d1f83cda-84bc-45ae-b1d9-4ad0ea17ecd2",
   "metadata": {},
   "outputs": [],
   "source": []
  },
  {
   "cell_type": "code",
   "execution_count": null,
   "id": "b47366b9-6479-4949-a1e6-b78577d8a0c2",
   "metadata": {},
   "outputs": [],
   "source": []
  },
  {
   "cell_type": "code",
   "execution_count": null,
   "id": "48529940-6082-4de6-9a4d-d0569d3bcd1f",
   "metadata": {},
   "outputs": [],
   "source": []
  },
  {
   "cell_type": "code",
   "execution_count": null,
   "id": "f48492e7-f1ae-4724-8708-ddd9aba51aa0",
   "metadata": {},
   "outputs": [],
   "source": []
  },
  {
   "cell_type": "code",
   "execution_count": null,
   "id": "306aee8a-bc7a-4a2a-b37d-7409adcbac57",
   "metadata": {},
   "outputs": [],
   "source": []
  },
  {
   "cell_type": "code",
   "execution_count": null,
   "id": "16b6b1c2-2b92-4715-8357-dc7cd34202db",
   "metadata": {},
   "outputs": [],
   "source": []
  },
  {
   "cell_type": "code",
   "execution_count": null,
   "id": "bdd705b5-e79b-4052-993e-7b1cbb2470b1",
   "metadata": {},
   "outputs": [],
   "source": []
  }
 ],
 "metadata": {
  "kernelspec": {
   "display_name": "Python 3 (ipykernel)",
   "language": "python",
   "name": "python3"
  },
  "language_info": {
   "codemirror_mode": {
    "name": "ipython",
    "version": 3
   },
   "file_extension": ".py",
   "mimetype": "text/x-python",
   "name": "python",
   "nbconvert_exporter": "python",
   "pygments_lexer": "ipython3",
   "version": "3.10.5"
  }
 },
 "nbformat": 4,
 "nbformat_minor": 5
}
