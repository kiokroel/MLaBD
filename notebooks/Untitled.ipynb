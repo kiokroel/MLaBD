{
 "cells": [
  {
   "cell_type": "markdown",
   "id": "b6845c06-6d42-4a6b-938d-8495c2efdcb8",
   "metadata": {},
   "source": [
    "# A"
   ]
  },
  {
   "cell_type": "code",
   "execution_count": null,
   "id": "ae65105e-2684-4eca-aaa0-356d2db8ffc1",
   "metadata": {},
   "outputs": [],
   "source": [
    "import pandas as pd "
   ]
  },
  {
   "cell_type": "code",
   "execution_count": null,
   "id": "820288df-fe40-4741-ae9e-1a787a4639a0",
   "metadata": {},
   "outputs": [],
   "source": [
    "df = pd.read_csv(\"\")"
   ]
  },
  {
   "cell_type": "code",
   "execution_count": null,
   "id": "e9cb17df-7ec3-4b24-b099-4f9ca707261e",
   "metadata": {},
   "outputs": [],
   "source": [
    "df.info()"
   ]
  },
  {
   "cell_type": "code",
   "execution_count": null,
   "id": "1f3f0aea-c653-4d03-a297-1ce7449beaf2",
   "metadata": {},
   "outputs": [],
   "source": [
    "df.head()"
   ]
  },
  {
   "cell_type": "code",
   "execution_count": null,
   "id": "7ca23d4c-432d-4658-93da-1eb6fb75246d",
   "metadata": {},
   "outputs": [],
   "source": [
    "#del movies_table[\"Unnamed: 0\"] \n",
    "# movies_table[columns_to_fill] = movies_table[columns_to_fill].fillna('Unknown')\n",
    "f = lambda x : str(x)+\"-01-01\"\n",
    "movies_table['Original Release Date'] = movies_table['Original Release Date'].fillna(movies_table['Year of Release'].transform(f))"
   ]
  },
  {
   "cell_type": "code",
   "execution_count": null,
   "id": "23754861-b451-4fa9-a926-5fa29857bd9b",
   "metadata": {},
   "outputs": [],
   "source": [
    "movies_table.duplicated().sum()"
   ]
  },
  {
   "cell_type": "code",
   "execution_count": null,
   "id": "ea39a075-160d-41d3-a6f9-b5a673de271a",
   "metadata": {},
   "outputs": [],
   "source": []
  },
  {
   "cell_type": "code",
   "execution_count": null,
   "id": "afddc9a8-7ae9-4219-8f37-0a1c95e1be56",
   "metadata": {},
   "outputs": [],
   "source": [
    "movies_table.describe()"
   ]
  },
  {
   "cell_type": "code",
   "execution_count": null,
   "id": "6826459e-fc14-4504-b467-71f245acce00",
   "metadata": {},
   "outputs": [],
   "source": [
    "columns = ['Year of Release', 'Movie Time','IMDB Rating', 'IMDB Votes','Audience Rating', 'Audience Count', 'Tomatometer Rating', 'Tomatometer Count']\n",
    "movies_table.describe()[columns]"
   ]
  },
  {
   "cell_type": "code",
   "execution_count": null,
   "id": "1384180a-7c2c-4a62-bc44-621e512c1308",
   "metadata": {},
   "outputs": [],
   "source": [
    "for column in columns:\n",
    "    movies_table.hist(column)"
   ]
  },
  {
   "cell_type": "code",
   "execution_count": null,
   "id": "3739e1c4-d329-49b1-9e80-51aadd185449",
   "metadata": {},
   "outputs": [],
   "source": [
    "#seaborn pairplot displot"
   ]
  },
  {
   "cell_type": "code",
   "execution_count": null,
   "id": "e7bcc02f-097d-4937-b593-1f79447d608c",
   "metadata": {},
   "outputs": [],
   "source": [
    "outlier = movies_table[['IMDB Votes', 'Audience Count']]\n",
    "outlier"
   ]
  },
  {
   "cell_type": "code",
   "execution_count": null,
   "id": "d4ace526-41f0-499d-a386-72636e5b786d",
   "metadata": {},
   "outputs": [],
   "source": [
    "Q1 = outlier.quantile(0.25)\n",
    "Q3 = outlier.quantile(0.75)\n",
    "IQR = Q3-Q1\n",
    "\n",
    "data_filtered = outlier[~((outlier < (Q1 - 1.5 * IQR)) |(outlier > (Q3 + 1.5 * IQR))).any(axis=1)]\n",
    "data_filtered\n",
    "\n",
    "index_list = list(data_filtered.index.values)\n",
    "movies_table_filtered = movies_table[movies_table.index.isin(index_list)]\n",
    "movies_table_filtered.head()"
   ]
  },
  {
   "cell_type": "code",
   "execution_count": null,
   "id": "58fd5a23-615e-4412-b3cc-02afd4f0d5ee",
   "metadata": {},
   "outputs": [],
   "source": [
    "filtered_outlier = movies_table_filtered[['IMDB Votes', 'Audience Count']]\n",
    "\n",
    "for col in filtered_outlier:\n",
    "    movies_table_filtered.hist(col, bins=100)"
   ]
  },
  {
   "cell_type": "code",
   "execution_count": null,
   "id": "b666f5b6-472e-4a06-9356-2f6b2fd37616",
   "metadata": {},
   "outputs": [],
   "source": [
    "data=data.rename(\n",
    "    columns={\n",
    "        'Engine_capacity(cm3)':'Engine_capacity',\n",
    "        'Price(euro)':'Price'\n",
    "    }\n",
    ")"
   ]
  },
  {
   "cell_type": "markdown",
   "id": "81ff0dee-67d6-4ba6-8b5e-13fb2a0ded3a",
   "metadata": {},
   "source": [
    "# B"
   ]
  },
  {
   "cell_type": "code",
   "execution_count": null,
   "id": "36ebe4e9-2a0a-4606-a37e-5e004c255fae",
   "metadata": {},
   "outputs": [],
   "source": [
    "rnd = 1000\n",
    "import pandas as pd \n",
    "df = pd.read_csv(\"\")"
   ]
  },
  {
   "cell_type": "code",
   "execution_count": null,
   "id": "bf31bfb0-8fbd-44b7-ae41-2244c057ba72",
   "metadata": {},
   "outputs": [],
   "source": [
    "X = df.drop(['fraud'], axis=1)\n",
    "y= df['fraud']"
   ]
  },
  {
   "cell_type": "code",
   "execution_count": null,
   "id": "8ce5b622-4e4e-4f26-b1e8-f1e65a2a8894",
   "metadata": {},
   "outputs": [],
   "source": [
    "from sklearn.metrics import accuracy_score, confusion_matrix, classification_report, roc_auc_score, f1_score, recall_score, precision_score\n",
    "def metric(y_test, y_pred):\n",
    "    print(f\"Accuracy: {accuracy_score(y_test, y_pred)}\")\n",
    "    print(f\"ROC AUC score: {roc_auc_score(y_test, y_pred)}\")\n",
    "    print(f\"F1 score: {f1_score(y_test, y_pred)}\")\n",
    "    print(f\"Recall score: {recall_score(y_test, y_pred)}\")\n",
    "    print(f\"Precision score: {precision_score(y_test, y_pred)}\")"
   ]
  },
  {
   "cell_type": "code",
   "execution_count": null,
   "id": "1de06609-6713-4dec-9d24-70d858f96d14",
   "metadata": {},
   "outputs": [],
   "source": [
    "X_train, X_test, y_train, y_test = train_test_split(X, y, test_size=0.2, stratify = y)"
   ]
  },
  {
   "cell_type": "code",
   "execution_count": null,
   "id": "ff3bfd99-4c70-4b30-9a30-6775c7271864",
   "metadata": {},
   "outputs": [],
   "source": [
    "from sklearn.model_selection import GridSearchCV"
   ]
  },
  {
   "cell_type": "markdown",
   "id": "66c830b1-9a46-489f-93b8-52bc6aeca0af",
   "metadata": {},
   "source": [
    "## KNN"
   ]
  },
  {
   "cell_type": "code",
   "execution_count": null,
   "id": "d111e61c-e0dc-44c1-b08e-632592096f10",
   "metadata": {},
   "outputs": [],
   "source": [
    "pipe_knn3 = Pipeline(\n",
    "    [('minmaxscaler', MinMaxScaler()), ('model', KNeighborsClassifier(n_neighbors=3)) \n",
    "    ]\n",
    ")\n",
    "pipe_knn3.fit(X_train, y_train)\n",
    "y_knn3_pred = pipe_knn3.predict(X_test)"
   ]
  },
  {
   "cell_type": "code",
   "execution_count": null,
   "id": "6af01e80-23ac-4888-968a-28bfac6866b9",
   "metadata": {},
   "outputs": [],
   "source": [
    "metric(y_test, y_knn3_pred)"
   ]
  },
  {
   "cell_type": "code",
   "execution_count": null,
   "id": "fe1230cc-8127-4f15-8fc8-8f85b129e8ac",
   "metadata": {},
   "outputs": [],
   "source": [
    "confusion_matrix(y_test, y_knn3_pred)"
   ]
  },
  {
   "cell_type": "code",
   "execution_count": null,
   "id": "0f565c65-595e-4b52-8dcd-f40b4cc7f506",
   "metadata": {},
   "outputs": [],
   "source": [
    "print(classification_report(y_test, my_knn3_pred))"
   ]
  },
  {
   "cell_type": "code",
   "execution_count": null,
   "id": "f5d365a3-0303-4235-9fbb-cf49a816bb87",
   "metadata": {},
   "outputs": [],
   "source": [
    "nm = NearMiss()\n",
    "X_nm_train, y_nm_train = nm.fit_resample(X_train, y_train)\n",
    "\n",
    "knn3_nm = Pipeline([('minmaxscaler', MinMaxScaler()), ('model', KNeighborsClassifier(n_neighbors=3)) ])\n",
    "knn3_nm.fit(X_nm_train, y_nm_train)\n",
    "\n",
    "y_knn3_nm_pred = knn3_nm.predict(X_test)\n",
    "\n",
    "print(accuracy_score(y_test, y_knn3_nm_pred))\n",
    "print(confusion_matrix(y_test, y_knn3_nm_pred))"
   ]
  },
  {
   "cell_type": "markdown",
   "id": "3fceb94e-6bc3-4c85-ad82-63041868c461",
   "metadata": {},
   "source": [
    "## Naive Bayes"
   ]
  },
  {
   "cell_type": "code",
   "execution_count": null,
   "id": "2cd15388-c1ac-4356-b62f-9e3eed69ba4d",
   "metadata": {},
   "outputs": [],
   "source": [
    "pipe = Pipeline(\n",
    "    [('minmaxscaler', MinMaxScaler()), ('model', GaussianNB()) \n",
    "    ]\n",
    ")\n",
    "pipe.fit(X_train, y_train)\n",
    "\n",
    "y_nb_pred=pipe.predict(X_test)\n",
    "\n",
    "confusion_matrix(y_test, y_nb_pred)\n",
    "print(f\"Accuracy: {accuracy_score(y_test, y_nb_pred)}\")\n",
    "print(f\"ROC AUC score: {roc_auc_score(y_test, y_nb_pred)}\")\n",
    "print(f\"F1 score: {f1_score(y_test, y_nb_pred)}\")\n",
    "print(f\"Recall score: {recall_score(y_test, y_nb_pred)}\")\n",
    "print(f\"Precision score: {precision_score(y_test, y_nb_pred)}\")"
   ]
  },
  {
   "cell_type": "code",
   "execution_count": null,
   "id": "73123802-65a2-4c22-9868-a99240df4dc3",
   "metadata": {},
   "outputs": [],
   "source": []
  },
  {
   "cell_type": "markdown",
   "id": "f132e07f-5175-4b61-921c-5e84c418693c",
   "metadata": {},
   "source": [
    "## CART"
   ]
  },
  {
   "cell_type": "code",
   "execution_count": null,
   "id": "f7728ec9-96fc-46d6-8825-b4071d6fc764",
   "metadata": {},
   "outputs": [],
   "source": [
    "pd.crosstab(df_cl['fraud'],df_cl['fraud'], normalize='all')*100"
   ]
  },
  {
   "cell_type": "code",
   "execution_count": null,
   "id": "01d9c29c-5b14-4129-a193-fb5a76561227",
   "metadata": {},
   "outputs": [],
   "source": [
    "from sklearn.tree import DecisionTreeClassifier"
   ]
  },
  {
   "cell_type": "code",
   "execution_count": null,
   "id": "a4a8b500-c823-42c9-a362-eb2803bea94d",
   "metadata": {},
   "outputs": [],
   "source": [
    "Tree_classifier = DecisionTreeClassifier(random_state=rand_state-1)\n",
    "Tree_classifier.fit(X_train, y_train)"
   ]
  },
  {
   "cell_type": "code",
   "execution_count": null,
   "id": "d241acca-fcbb-44ae-9703-feea80702597",
   "metadata": {},
   "outputs": [],
   "source": [
    "y_pred = Tree_classifier.predict(X_test)"
   ]
  },
  {
   "cell_type": "code",
   "execution_count": null,
   "id": "0bed5c11-2582-46ca-88ea-70def1c0063c",
   "metadata": {},
   "outputs": [],
   "source": [
    "print(confusion_matrix(y_test, y_pred))"
   ]
  },
  {
   "cell_type": "code",
   "execution_count": null,
   "id": "0d43f4f6-9cdd-4a89-86ac-c7ac9cd63a9f",
   "metadata": {},
   "outputs": [],
   "source": [
    "print('Training set score: {:.4f}'.format(Tree_classifier.score(X_train, y_train)))\n",
    "print('Test set score: {:.4f}'.format(Tree_classifier.score(X_test, y_test)))"
   ]
  },
  {
   "cell_type": "code",
   "execution_count": null,
   "id": "e196bea2-a401-46c6-9006-b8d2d75c3031",
   "metadata": {},
   "outputs": [],
   "source": []
  },
  {
   "cell_type": "code",
   "execution_count": null,
   "id": "c39214f7-f9df-4407-8494-a174f5680b0c",
   "metadata": {},
   "outputs": [],
   "source": [
    "param_dist = {\n",
    "    \"max_depth\": randint(1, 4),\n",
    "    \"min_samples_split\": randint(2, 20),\n",
    "    \"min_samples_leaf\": randint(1, 10)\n",
    "}\n",
    "\n",
    "Tree_classifier_opt = GridSearchCV(DecisionTreeClassifier(), param_distributions=param_dist, random_state=rnd)\n",
    "Tree_classifier_opt.fit(X_train_classifier, y_train_classifier)\n",
    "\n",
    "best_classifier = clf_random_search.best_estimator_"
   ]
  },
  {
   "cell_type": "code",
   "execution_count": null,
   "id": "d44e5acb-55cc-4631-aa46-66d591f0e688",
   "metadata": {},
   "outputs": [],
   "source": []
  },
  {
   "cell_type": "code",
   "execution_count": null,
   "id": "b45a50bb-3d88-419d-86f0-30d66200adce",
   "metadata": {},
   "outputs": [],
   "source": []
  },
  {
   "cell_type": "code",
   "execution_count": null,
   "id": "163807ac-a851-4a25-9a09-f99359a63d16",
   "metadata": {},
   "outputs": [],
   "source": []
  }
 ],
 "metadata": {
  "kernelspec": {
   "display_name": "Python 3 (ipykernel)",
   "language": "python",
   "name": "python3"
  },
  "language_info": {
   "codemirror_mode": {
    "name": "ipython",
    "version": 3
   },
   "file_extension": ".py",
   "mimetype": "text/x-python",
   "name": "python",
   "nbconvert_exporter": "python",
   "pygments_lexer": "ipython3",
   "version": "3.10.5"
  }
 },
 "nbformat": 4,
 "nbformat_minor": 5
}
