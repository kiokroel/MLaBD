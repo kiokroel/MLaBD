{
 "cells": [
  {
   "cell_type": "code",
   "execution_count": 1,
   "id": "30492d31-aaaa-4e2f-95db-8978c2e339c0",
   "metadata": {},
   "outputs": [],
   "source": [
    "import pandas as pd\n",
    "from bs4 import BeautifulSoup\n",
    "import requests"
   ]
  },
  {
   "cell_type": "markdown",
   "id": "3f70af22-253d-4780-88f7-39349418373e",
   "metadata": {},
   "source": [
    "<h1>Составление талбицы с CPI</h1>"
   ]
  },
  {
   "cell_type": "code",
   "execution_count": 2,
   "id": "8b8c0d68-f251-4126-bf6d-0e54fdc39a5e",
   "metadata": {},
   "outputs": [],
   "source": [
    "url = \"https://www.usinflationcalculator.com/inflation/consumer-price-index-and-annual-percent-changes-from-1913-to-2008/\""
   ]
  },
  {
   "cell_type": "code",
   "execution_count": 3,
   "id": "2b34b2f4-8657-4a96-b936-97b51e9a1ec3",
   "metadata": {},
   "outputs": [],
   "source": [
    "r = requests.get(url)\n",
    "data = r.text\n",
    "soup = BeautifulSoup(data, \"html.parser\")"
   ]
  },
  {
   "cell_type": "code",
   "execution_count": 4,
   "id": "c6538aad-4d18-47fe-a85b-8be57f5423a8",
   "metadata": {},
   "outputs": [],
   "source": [
    "table = soup.find('table')\n",
    "rows = table.tbody.findAll('tr')"
   ]
  },
  {
   "cell_type": "code",
   "execution_count": 5,
   "id": "a5885e37-9166-43bd-b9f0-cbfa9b182294",
   "metadata": {},
   "outputs": [],
   "source": [
    "years = list()\n",
    "cpis = list()"
   ]
  },
  {
   "cell_type": "code",
   "execution_count": 6,
   "id": "7e0f572b-199f-4b85-8a4a-80841a0ab7b6",
   "metadata": {},
   "outputs": [],
   "source": [
    "for row in rows:\n",
    "    year = row.findAll('td')[0].get_text()\n",
    "    if year.isdigit() and int(year) <= 2017:\n",
    "        years.append(int(year))\n",
    "        cpis.append(float(row.findAll('td')[13].get_text()))"
   ]
  },
  {
   "cell_type": "code",
   "execution_count": 7,
   "id": "3c721d21-baf8-4e5f-a047-e01939474678",
   "metadata": {},
   "outputs": [],
   "source": [
    "cpi_table = pd.DataFrame({\n",
    "    \"year\": years,\n",
    "    \"avg_annual_cpi\": cpis\n",
    "})"
   ]
  },
  {
   "cell_type": "markdown",
   "id": "ed83b917-76b0-4ded-b1e3-15088ba3f86f",
   "metadata": {},
   "source": [
    "<h1>Запись таблицы c CPI в файл</h1>"
   ]
  },
  {
   "cell_type": "code",
   "execution_count": 8,
   "id": "e3a31e8a-6879-4f92-8045-dfabde8d2f43",
   "metadata": {},
   "outputs": [],
   "source": [
    "cpi_table.to_csv(\"../data/Lab1_Koren_CPI.csv\", sep=',')"
   ]
  },
  {
   "cell_type": "code",
   "execution_count": 9,
   "id": "2f32b00d-26f9-4b52-9a9b-9ca4d46971f1",
   "metadata": {},
   "outputs": [],
   "source": [
    "def get_real_value(nominal_amt, old_cpi, new_cpi):\n",
    "    real_value = (nominal_amt * new_cpi) / old_cpi\n",
    "    return real_value"
   ]
  },
  {
   "cell_type": "code",
   "execution_count": 10,
   "id": "9252d73f-e338-4c86-9d6f-d194b327711f",
   "metadata": {},
   "outputs": [
    {
     "name": "stderr",
     "output_type": "stream",
     "text": [
      "C:\\Users\\qwerty\\AppData\\Local\\Temp\\ipykernel_12840\\793858478.py:1: FutureWarning: Calling float on a single element Series is deprecated and will raise a TypeError in the future. Use float(ser.iloc[0]) instead\n",
      "  CPI_2017 = float(cpi_table[cpi_table['year'] == 2017]['avg_annual_cpi'])\n"
     ]
    }
   ],
   "source": [
    "CPI_2017 = float(cpi_table[cpi_table['year'] == 2017]['avg_annual_cpi'])"
   ]
  },
  {
   "cell_type": "markdown",
   "id": "8c8c02f4-3f93-451d-8d8d-6b3af6fa617b",
   "metadata": {},
   "source": [
    "<h1></h1>"
   ]
  },
  {
   "cell_type": "markdown",
   "id": "776e64b3-8408-4429-bcac-d765add00740",
   "metadata": {},
   "source": [
    "<h1>Считываем данных из csv файла, где хранится информация о фильмах</h1>"
   ]
  },
  {
   "cell_type": "code",
   "execution_count": 11,
   "id": "bea74ca0-18f1-4222-bc27-1a8043c3d915",
   "metadata": {},
   "outputs": [],
   "source": [
    "movies_table = pd.read_csv('../data/Dataset1.csv')"
   ]
  },
  {
   "cell_type": "markdown",
   "id": "41b345b0-ba63-4faf-b42d-c22f9619fce3",
   "metadata": {},
   "source": [
    "<h1></h1>"
   ]
  },
  {
   "cell_type": "markdown",
   "id": "3a3416ad-625d-47e5-846d-6b0e71a5c225",
   "metadata": {},
   "source": [
    "<h1>Прописываем в пустые ячейки \"unknown\"</h1>"
   ]
  },
  {
   "cell_type": "code",
   "execution_count": 12,
   "id": "cc08b184-df8f-4da0-9cb3-b3fc8f49da8a",
   "metadata": {},
   "outputs": [
    {
     "data": {
      "text/plain": [
       "color                          18\n",
       "Director_Name                 171\n",
       "num_Critic_for_reviews        116\n",
       "duration                       84\n",
       "director_Facebook_likes       171\n",
       "actor_3_Facebook_likes         90\n",
       "actor_2_name                   80\n",
       "Actor_1_Facebook_likes         75\n",
       "gross                         939\n",
       "genres                         69\n",
       "actor_1_name                   75\n",
       "movie_Title                    69\n",
       "num_voted_users                69\n",
       " cast_total_facebook_likes     69\n",
       "actor_3_name                   90\n",
       "facenumber_in_poster           82\n",
       "plot_keywords                 216\n",
       "movie_imdb_link                69\n",
       "num_user_for_reviews           87\n",
       "language                       82\n",
       "country                        72\n",
       "content_rating                366\n",
       "budget                        549\n",
       "title_year                    174\n",
       "actor_2_facebook_likes         80\n",
       "imdb_score                     69\n",
       "aspect_ratio                  389\n",
       "movie_facebook_likes;          69\n",
       "dtype: int64"
      ]
     },
     "execution_count": 12,
     "metadata": {},
     "output_type": "execute_result"
    }
   ],
   "source": [
    "movies_table.isna().sum()"
   ]
  },
  {
   "cell_type": "code",
   "execution_count": 13,
   "id": "4f514c1a-bc0c-4e07-852b-ed6e37172185",
   "metadata": {},
   "outputs": [],
   "source": [
    "columns_to_replace =['title_year', 'gross', 'budget']\n",
    "\n",
    "for row in columns_to_replace:\n",
    "    movies_table[row] = movies_table[row].fillna('unknown')"
   ]
  },
  {
   "cell_type": "code",
   "execution_count": 14,
   "id": "39d5de56-f399-49d4-b405-affad96b7806",
   "metadata": {},
   "outputs": [
    {
     "data": {
      "text/plain": [
       "color                          18\n",
       "Director_Name                 171\n",
       "num_Critic_for_reviews        116\n",
       "duration                       84\n",
       "director_Facebook_likes       171\n",
       "actor_3_Facebook_likes         90\n",
       "actor_2_name                   80\n",
       "Actor_1_Facebook_likes         75\n",
       "gross                           0\n",
       "genres                         69\n",
       "actor_1_name                   75\n",
       "movie_Title                    69\n",
       "num_voted_users                69\n",
       " cast_total_facebook_likes     69\n",
       "actor_3_name                   90\n",
       "facenumber_in_poster           82\n",
       "plot_keywords                 216\n",
       "movie_imdb_link                69\n",
       "num_user_for_reviews           87\n",
       "language                       82\n",
       "country                        72\n",
       "content_rating                366\n",
       "budget                          0\n",
       "title_year                      0\n",
       "actor_2_facebook_likes         80\n",
       "imdb_score                     69\n",
       "aspect_ratio                  389\n",
       "movie_facebook_likes;          69\n",
       "dtype: int64"
      ]
     },
     "execution_count": 14,
     "metadata": {},
     "output_type": "execute_result"
    }
   ],
   "source": [
    "movies_table.isna().sum()"
   ]
  },
  {
   "cell_type": "markdown",
   "id": "bfc956f5-862d-4da1-be46-f23f924cca11",
   "metadata": {},
   "source": [
    "<h1></h1>"
   ]
  },
  {
   "cell_type": "markdown",
   "id": "af1e633c-ae7f-485f-a850-dc5a7c5b4246",
   "metadata": {},
   "source": [
    "<h1>Вычисление валовой и бюджетной стоимости в реальной сумме</h1>"
   ]
  },
  {
   "cell_type": "code",
   "execution_count": 15,
   "id": "27de093f-8858-497c-b23a-71a58ed51eb0",
   "metadata": {},
   "outputs": [],
   "source": [
    "real_domestic_gross = []\n",
    "real_budget_values = []"
   ]
  },
  {
   "cell_type": "code",
   "execution_count": 16,
   "id": "ffbfb7ce-6ea1-43fe-aed7-e6da91be287f",
   "metadata": {},
   "outputs": [
    {
     "name": "stderr",
     "output_type": "stream",
     "text": [
      "C:\\Users\\qwerty\\AppData\\Local\\Temp\\ipykernel_12840\\1815066857.py:9: FutureWarning: Calling float on a single element Series is deprecated and will raise a TypeError in the future. Use float(ser.iloc[0]) instead\n",
      "  cpi = float(cpi_table[cpi_table['year'] == int(year)]['avg_annual_cpi'])\n"
     ]
    }
   ],
   "source": [
    "for index, row in movies_table.iterrows():\n",
    "    gross = row['gross']\n",
    "    budget = row['budget']\n",
    "    year = row['title_year']\n",
    "    if year == \"unknown\"  or gross == \"unknown\" or budget == \"unknown\":\n",
    "        real_domestic_gross.append(gross)\n",
    "        real_budget_values.append(budget)\n",
    "        continue\n",
    "    cpi = float(cpi_table[cpi_table['year'] == int(year)]['avg_annual_cpi'])\n",
    "    \n",
    "    real_gross = get_real_value(gross, cpi, CPI_2017)\n",
    "    real_budget = get_real_value(budget, cpi, CPI_2017)\n",
    "    real_domestic_gross.append(real_gross)\n",
    "    real_budget_values.append(real_budget)\n",
    "movies_table[\"real_domestic_gross\"] = real_domestic_gross\n",
    "movies_table[\"real_budget\"] = real_budget_values"
   ]
  },
  {
   "cell_type": "markdown",
   "id": "70137283-a21a-4b04-a59f-ccc96c4e56a0",
   "metadata": {},
   "source": [
    "<h1></h1>"
   ]
  },
  {
   "cell_type": "markdown",
   "id": "fef95ce4-a093-41b6-a790-de11f3be3340",
   "metadata": {},
   "source": [
    "<h1>Вычисление ROI и абсолютной прибыли</h1>"
   ]
  },
  {
   "cell_type": "code",
   "execution_count": 17,
   "id": "f9a585e4-24d4-4c5a-9828-57b2e5b360bd",
   "metadata": {},
   "outputs": [],
   "source": [
    "profits = []\n",
    "roi_vals = []"
   ]
  },
  {
   "cell_type": "code",
   "execution_count": 18,
   "id": "2859e5db-3032-42c8-94a4-9b24d7d7d25c",
   "metadata": {},
   "outputs": [],
   "source": [
    "for index, row in movies_table.iterrows():\n",
    "    if row[\"real_domestic_gross\"] == \"unknown\" or row['real_budget'] == \"unknown\":\n",
    "        profits.append(\"unknown\")\n",
    "        roi_vals.append(\"unknown\")\n",
    "        continue\n",
    "    profit = row[\"real_domestic_gross\"] - row['real_budget']\n",
    "    budget = row['real_budget']\n",
    "    num = profit - budget\n",
    "    den = budget\n",
    "    roi = (num / den) * 100\n",
    "    \n",
    "    profits.append(profit)\n",
    "    roi_vals.append(roi)\n",
    "\n",
    "movies_table['profit'] = profits\n",
    "movies_table['roi'] = roi_vals"
   ]
  },
  {
   "cell_type": "markdown",
   "id": "d94e5dfc-d12b-495e-ba3d-1add5f7f9e76",
   "metadata": {},
   "source": [
    "<h1></h1>"
   ]
  },
  {
   "cell_type": "markdown",
   "id": "aca939d6-fac1-4fb2-906f-8f5e552da768",
   "metadata": {},
   "source": [
    "<h1>Удаление дубликатов</h1>"
   ]
  },
  {
   "cell_type": "code",
   "execution_count": 19,
   "id": "154e6c3d-69b9-4654-98c1-094784ca4dfe",
   "metadata": {},
   "outputs": [
    {
     "data": {
      "text/plain": [
       "45"
      ]
     },
     "execution_count": 19,
     "metadata": {},
     "output_type": "execute_result"
    }
   ],
   "source": [
    "movies_table.duplicated().sum()"
   ]
  },
  {
   "cell_type": "code",
   "execution_count": 20,
   "id": "1fa81765-de3e-4fe1-a477-d7129ed2a88a",
   "metadata": {},
   "outputs": [],
   "source": [
    "movies_table = movies_table.drop_duplicates().reset_index(drop=True)"
   ]
  },
  {
   "cell_type": "code",
   "execution_count": 21,
   "id": "5beb8e90-7d22-463f-a543-4e13c1bf1997",
   "metadata": {},
   "outputs": [
    {
     "data": {
      "text/plain": [
       "0"
      ]
     },
     "execution_count": 21,
     "metadata": {},
     "output_type": "execute_result"
    }
   ],
   "source": [
    "movies_table.duplicated().sum()"
   ]
  },
  {
   "cell_type": "markdown",
   "id": "d356cb46-0a99-4de5-8206-082ceb4658ff",
   "metadata": {},
   "source": [
    "<h1></h1>"
   ]
  },
  {
   "cell_type": "markdown",
   "id": "4be002ad-9bde-410f-891d-80138dc7f53d",
   "metadata": {},
   "source": [
    "<h1>Гипотезы</h1>"
   ]
  },
  {
   "cell_type": "markdown",
   "id": "27b17e1b-a599-4833-b760-2758eb2de9bc",
   "metadata": {},
   "source": [
    "1. Большая часть фильмов окупилась \n",
    "2. Action - самый чаcтый жанр\n",
    "3. Средняя оценка фильмов 6.5 +- 0.2\n"
   ]
  },
  {
   "cell_type": "markdown",
   "id": "26761fe5-cb1a-46e3-9f26-2c2b6af56249",
   "metadata": {},
   "source": [
    "<h2>Проверка первой гипотезы</h2>"
   ]
  },
  {
   "cell_type": "code",
   "execution_count": 23,
   "id": "6b1a1606-bd1d-48c3-913d-0a5435b18170",
   "metadata": {},
   "outputs": [
    {
     "name": "stdout",
     "output_type": "stream",
     "text": [
      "52.584623458409865\n"
     ]
    }
   ],
   "source": [
    "count_profit_films = 0\n",
    "count_films = 0\n",
    "for index, row in movies_table.iterrows():\n",
    "    if row['profit'] == \"unknown\":\n",
    "        continue\n",
    "    if row['profit'] > 0:\n",
    "        count_profit_films += 1\n",
    "    count_films += 1\n",
    "\n",
    "print((count_profit_films * 100) / count_films)"
   ]
  },
  {
   "cell_type": "markdown",
   "id": "53cf3fe6-e13a-4b08-aa22-7561b73cd99e",
   "metadata": {},
   "source": [
    "Из волученного результата видно, что 52.58% фильмов окупились."
   ]
  },
  {
   "cell_type": "markdown",
   "id": "4368458b-4bef-44be-acd4-78c4e344e8a6",
   "metadata": {},
   "source": [
    "<h2>Проверка второй гипотезы</h2>"
   ]
  },
  {
   "cell_type": "code",
   "execution_count": 24,
   "id": "c7260c84-8d57-44bb-831a-5200c1e6471d",
   "metadata": {},
   "outputs": [],
   "source": [
    "popularity_of_genres = dict()\n",
    "for index, row in movies_table.iterrows():\n",
    "    if not isinstance(row['genres'], str):\n",
    "        continue\n",
    "    for genre in row['genres'].split('|'):\n",
    "        if genre not in popularity_of_genres:\n",
    "            popularity_of_genres[genre] = 1\n",
    "        else:\n",
    "            popularity_of_genres[genre] += 1\n",
    "\n",
    "popularity_of_genres = pd.DataFrame.from_dict(popularity_of_genres, orient='index', columns=['popularity'])\n",
    "        "
   ]
  },
  {
   "cell_type": "code",
   "execution_count": 25,
   "id": "48d3f9d1-dd72-4ff1-86cd-a43a4d73974d",
   "metadata": {},
   "outputs": [
    {
     "data": {
      "text/html": [
       "<div>\n",
       "<style scoped>\n",
       "    .dataframe tbody tr th:only-of-type {\n",
       "        vertical-align: middle;\n",
       "    }\n",
       "\n",
       "    .dataframe tbody tr th {\n",
       "        vertical-align: top;\n",
       "    }\n",
       "\n",
       "    .dataframe thead th {\n",
       "        text-align: right;\n",
       "    }\n",
       "</style>\n",
       "<table border=\"1\" class=\"dataframe\">\n",
       "  <thead>\n",
       "    <tr style=\"text-align: right;\">\n",
       "      <th></th>\n",
       "      <th>popularity</th>\n",
       "    </tr>\n",
       "  </thead>\n",
       "  <tbody>\n",
       "    <tr>\n",
       "      <th>Drama</th>\n",
       "      <td>2543</td>\n",
       "    </tr>\n",
       "    <tr>\n",
       "      <th>Comedy</th>\n",
       "      <td>1826</td>\n",
       "    </tr>\n",
       "    <tr>\n",
       "      <th>Thriller</th>\n",
       "      <td>1389</td>\n",
       "    </tr>\n",
       "    <tr>\n",
       "      <th>Action</th>\n",
       "      <td>1134</td>\n",
       "    </tr>\n",
       "    <tr>\n",
       "      <th>Romance</th>\n",
       "      <td>1081</td>\n",
       "    </tr>\n",
       "  </tbody>\n",
       "</table>\n",
       "</div>"
      ],
      "text/plain": [
       "          popularity\n",
       "Drama           2543\n",
       "Comedy          1826\n",
       "Thriller        1389\n",
       "Action          1134\n",
       "Romance         1081"
      ]
     },
     "execution_count": 25,
     "metadata": {},
     "output_type": "execute_result"
    }
   ],
   "source": [
    "popularity_of_genres = popularity_of_genres.sort_values(by=['popularity'], ascending=False)\n",
    "popularity_of_genres.head()"
   ]
  },
  {
   "cell_type": "markdown",
   "id": "729ace57-d682-4b2e-b7ee-c9b4df11b6a7",
   "metadata": {},
   "source": [
    "По таблице видно, что гипотеза оказалась ошибочной, и самый частый жанр - Drama"
   ]
  },
  {
   "cell_type": "markdown",
   "id": "0b057f14-8e15-405f-b8fe-6192c2b71180",
   "metadata": {},
   "source": [
    "<h2>Проверка третий гипотезы</h2>"
   ]
  },
  {
   "cell_type": "code",
   "execution_count": 26,
   "id": "79738d1a-a050-4539-96c7-23a3c6721bc6",
   "metadata": {},
   "outputs": [
    {
     "name": "stdout",
     "output_type": "stream",
     "text": [
      "6.438498985801217\n"
     ]
    }
   ],
   "source": [
    "print(movies_table['imdb_score'].mean(numeric_only=True))"
   ]
  },
  {
   "cell_type": "markdown",
   "id": "b6a544bd-f7a4-4493-ad91-3dd2a81b7cb4",
   "metadata": {},
   "source": [
    "Средняя оценка за фильм 6.4. Гипотеза подтверждена."
   ]
  }
 ],
 "metadata": {
  "kernelspec": {
   "display_name": "Python 3 (ipykernel)",
   "language": "python",
   "name": "python3"
  },
  "language_info": {
   "codemirror_mode": {
    "name": "ipython",
    "version": 3
   },
   "file_extension": ".py",
   "mimetype": "text/x-python",
   "name": "python",
   "nbconvert_exporter": "python",
   "pygments_lexer": "ipython3",
   "version": "3.10.5"
  }
 },
 "nbformat": 4,
 "nbformat_minor": 5
}
