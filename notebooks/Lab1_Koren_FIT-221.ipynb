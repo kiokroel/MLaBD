{
 "cells": [
  {
   "cell_type": "code",
   "execution_count": 1,
   "id": "30492d31-aaaa-4e2f-95db-8978c2e339c0",
   "metadata": {},
   "outputs": [],
   "source": [
    "import pandas as pd\n",
    "from bs4 import BeautifulSoup\n",
    "import requests"
   ]
  },
  {
   "cell_type": "markdown",
   "id": "3f70af22-253d-4780-88f7-39349418373e",
   "metadata": {},
   "source": [
    "<h1>Составление талбицы с CPI</h1>"
   ]
  },
  {
   "cell_type": "code",
   "execution_count": 2,
   "id": "8b8c0d68-f251-4126-bf6d-0e54fdc39a5e",
   "metadata": {},
   "outputs": [],
   "source": [
    "url = \"https://www.usinflationcalculator.com/inflation/consumer-price-index-and-annual-percent-changes-from-1913-to-2008/\""
   ]
  },
  {
   "cell_type": "code",
   "execution_count": 3,
   "id": "2b34b2f4-8657-4a96-b936-97b51e9a1ec3",
   "metadata": {},
   "outputs": [],
   "source": [
    "r = requests.get(url)\n",
    "data = r.text\n",
    "soup = BeautifulSoup(data, \"html.parser\")"
   ]
  },
  {
   "cell_type": "code",
   "execution_count": 4,
   "id": "c6538aad-4d18-47fe-a85b-8be57f5423a8",
   "metadata": {},
   "outputs": [],
   "source": [
    "table = soup.find('table')\n",
    "rows = table.tbody.findAll('tr')"
   ]
  },
  {
   "cell_type": "code",
   "execution_count": 5,
   "id": "a5885e37-9166-43bd-b9f0-cbfa9b182294",
   "metadata": {},
   "outputs": [],
   "source": [
    "years = list()\n",
    "cpis = list()"
   ]
  },
  {
   "cell_type": "code",
   "execution_count": 6,
   "id": "7e0f572b-199f-4b85-8a4a-80841a0ab7b6",
   "metadata": {},
   "outputs": [],
   "source": [
    "for row in rows:\n",
    "    year = row.findAll('td')[0].get_text()\n",
    "    if year.isdigit() and int(year) <= 2017:\n",
    "        years.append(int(year))\n",
    "        cpis.append(float(row.findAll('td')[13].get_text()))"
   ]
  },
  {
   "cell_type": "code",
   "execution_count": 7,
   "id": "3c721d21-baf8-4e5f-a047-e01939474678",
   "metadata": {},
   "outputs": [],
   "source": [
    "cpi_table = pd.DataFrame({\n",
    "    \"year\": years,\n",
    "    \"avg_annual_cpi\": cpis\n",
    "})"
   ]
  },
  {
   "cell_type": "markdown",
   "id": "ed83b917-76b0-4ded-b1e3-15088ba3f86f",
   "metadata": {},
   "source": [
    "<h1>Запись таблицы c CPI в файл</h1>"
   ]
  },
  {
   "cell_type": "code",
   "execution_count": 8,
   "id": "e3a31e8a-6879-4f92-8045-dfabde8d2f43",
   "metadata": {},
   "outputs": [],
   "source": [
    "cpi_table.to_csv(\"../data/Lab1_Koren_CPI.csv\", sep=',')"
   ]
  },
  {
   "cell_type": "code",
   "execution_count": 9,
   "id": "2f32b00d-26f9-4b52-9a9b-9ca4d46971f1",
   "metadata": {},
   "outputs": [],
   "source": [
    "def get_real_value(nominal_amt, old_cpi, new_cpi):\n",
    "    real_value = (nominal_amt * new_cpi) / old_cpi\n",
    "    return real_value"
   ]
  },
  {
   "cell_type": "code",
   "execution_count": 10,
   "id": "9252d73f-e338-4c86-9d6f-d194b327711f",
   "metadata": {},
   "outputs": [
    {
     "name": "stderr",
     "output_type": "stream",
     "text": [
      "C:\\Users\\qwerty\\AppData\\Local\\Temp\\ipykernel_10676\\793858478.py:1: FutureWarning: Calling float on a single element Series is deprecated and will raise a TypeError in the future. Use float(ser.iloc[0]) instead\n",
      "  CPI_2017 = float(cpi_table[cpi_table['year'] == 2017]['avg_annual_cpi'])\n"
     ]
    }
   ],
   "source": [
    "CPI_2017 = float(cpi_table[cpi_table['year'] == 2017]['avg_annual_cpi'])"
   ]
  },
  {
   "cell_type": "markdown",
   "id": "8c8c02f4-3f93-451d-8d8d-6b3af6fa617b",
   "metadata": {},
   "source": [
    "<h1></h1>"
   ]
  },
  {
   "cell_type": "markdown",
   "id": "776e64b3-8408-4429-bcac-d765add00740",
   "metadata": {},
   "source": [
    "<h1>Считываем данных из csv файла, где хранится информация о фильмах</h1>"
   ]
  },
  {
   "cell_type": "code",
   "execution_count": 11,
   "id": "bea74ca0-18f1-4222-bc27-1a8043c3d915",
   "metadata": {},
   "outputs": [],
   "source": [
    "movies_table = pd.read_csv('../data/Dataset1.csv')"
   ]
  },
  {
   "cell_type": "code",
   "execution_count": 12,
   "id": "d3b85c63-0a57-4881-943a-445e05a8fdf4",
   "metadata": {},
   "outputs": [
    {
     "data": {
      "text/html": [
       "<div>\n",
       "<style scoped>\n",
       "    .dataframe tbody tr th:only-of-type {\n",
       "        vertical-align: middle;\n",
       "    }\n",
       "\n",
       "    .dataframe tbody tr th {\n",
       "        vertical-align: top;\n",
       "    }\n",
       "\n",
       "    .dataframe thead th {\n",
       "        text-align: right;\n",
       "    }\n",
       "</style>\n",
       "<table border=\"1\" class=\"dataframe\">\n",
       "  <thead>\n",
       "    <tr style=\"text-align: right;\">\n",
       "      <th></th>\n",
       "      <th>color</th>\n",
       "      <th>Director_Name</th>\n",
       "      <th>num_Critic_for_reviews</th>\n",
       "      <th>duration</th>\n",
       "      <th>director_Facebook_likes</th>\n",
       "      <th>actor_3_Facebook_likes</th>\n",
       "      <th>actor_2_name</th>\n",
       "      <th>Actor_1_Facebook_likes</th>\n",
       "      <th>gross</th>\n",
       "      <th>genres</th>\n",
       "      <th>...</th>\n",
       "      <th>num_user_for_reviews</th>\n",
       "      <th>language</th>\n",
       "      <th>country</th>\n",
       "      <th>content_rating</th>\n",
       "      <th>budget</th>\n",
       "      <th>title_year</th>\n",
       "      <th>actor_2_facebook_likes</th>\n",
       "      <th>imdb_score</th>\n",
       "      <th>aspect_ratio</th>\n",
       "      <th>movie_facebook_likes;</th>\n",
       "    </tr>\n",
       "  </thead>\n",
       "  <tbody>\n",
       "    <tr>\n",
       "      <th>0</th>\n",
       "      <td>Color</td>\n",
       "      <td>James Cameron</td>\n",
       "      <td>723.0</td>\n",
       "      <td>178.0</td>\n",
       "      <td>0.0</td>\n",
       "      <td>855.0</td>\n",
       "      <td>Joel David Moore</td>\n",
       "      <td>1000.0</td>\n",
       "      <td>760505847.0</td>\n",
       "      <td>Action|Adventure|Fantasy|Sci-Fi</td>\n",
       "      <td>...</td>\n",
       "      <td>3054.0</td>\n",
       "      <td>English</td>\n",
       "      <td>USA</td>\n",
       "      <td>PG-13</td>\n",
       "      <td>237000000.0</td>\n",
       "      <td>2009.0</td>\n",
       "      <td>936.0</td>\n",
       "      <td>7.9</td>\n",
       "      <td>1.78</td>\n",
       "      <td>33000;</td>\n",
       "    </tr>\n",
       "    <tr>\n",
       "      <th>1</th>\n",
       "      <td>Colour</td>\n",
       "      <td>Gore Verbinski</td>\n",
       "      <td>302.0</td>\n",
       "      <td>169.0</td>\n",
       "      <td>563.0</td>\n",
       "      <td>1000.0</td>\n",
       "      <td>Orlando Bloom</td>\n",
       "      <td>40000.0</td>\n",
       "      <td>309404152.0</td>\n",
       "      <td>Action|Adventure|Fantasy</td>\n",
       "      <td>...</td>\n",
       "      <td>1238.0</td>\n",
       "      <td>English</td>\n",
       "      <td>USA</td>\n",
       "      <td>PG-13</td>\n",
       "      <td>300000000.0</td>\n",
       "      <td>2007.0</td>\n",
       "      <td>5000.0</td>\n",
       "      <td>7.1</td>\n",
       "      <td>2.35</td>\n",
       "      <td>0;</td>\n",
       "    </tr>\n",
       "    <tr>\n",
       "      <th>2</th>\n",
       "      <td>Colour</td>\n",
       "      <td>Sam Mendes</td>\n",
       "      <td>602.0</td>\n",
       "      <td>148.0</td>\n",
       "      <td>0.0</td>\n",
       "      <td>161.0</td>\n",
       "      <td>Rory Kinnear</td>\n",
       "      <td>11000.0</td>\n",
       "      <td>200074175.0</td>\n",
       "      <td>Action|Adventure|Thriller</td>\n",
       "      <td>...</td>\n",
       "      <td>994.0</td>\n",
       "      <td>English</td>\n",
       "      <td>UK</td>\n",
       "      <td>PG-13</td>\n",
       "      <td>245000000.0</td>\n",
       "      <td>2015.0</td>\n",
       "      <td>393.0</td>\n",
       "      <td>6.8</td>\n",
       "      <td>2.35</td>\n",
       "      <td>85000;</td>\n",
       "    </tr>\n",
       "    <tr>\n",
       "      <th>3</th>\n",
       "      <td>Color</td>\n",
       "      <td>Christopher Nolan</td>\n",
       "      <td>813.0</td>\n",
       "      <td>164.0</td>\n",
       "      <td>22000.0</td>\n",
       "      <td>23000.0</td>\n",
       "      <td>Christian Bale</td>\n",
       "      <td>27000.0</td>\n",
       "      <td>448130642.0</td>\n",
       "      <td>Action|Thriller</td>\n",
       "      <td>...</td>\n",
       "      <td>2701.0</td>\n",
       "      <td>English</td>\n",
       "      <td>USA</td>\n",
       "      <td>PG-13</td>\n",
       "      <td>250000000.0</td>\n",
       "      <td>2012.0</td>\n",
       "      <td>23000.0</td>\n",
       "      <td>8.5</td>\n",
       "      <td>2.35</td>\n",
       "      <td>164000;</td>\n",
       "    </tr>\n",
       "    <tr>\n",
       "      <th>4</th>\n",
       "      <td>NaN</td>\n",
       "      <td>Doug Walker</td>\n",
       "      <td>NaN</td>\n",
       "      <td>NaN</td>\n",
       "      <td>131.0</td>\n",
       "      <td>NaN</td>\n",
       "      <td>Rob Walker</td>\n",
       "      <td>131.0</td>\n",
       "      <td>NaN</td>\n",
       "      <td>Documentary</td>\n",
       "      <td>...</td>\n",
       "      <td>NaN</td>\n",
       "      <td>NaN</td>\n",
       "      <td>NaN</td>\n",
       "      <td>NaN</td>\n",
       "      <td>NaN</td>\n",
       "      <td>NaN</td>\n",
       "      <td>12.0</td>\n",
       "      <td>7.1</td>\n",
       "      <td>NaN</td>\n",
       "      <td>0;</td>\n",
       "    </tr>\n",
       "    <tr>\n",
       "      <th>5</th>\n",
       "      <td>Colour</td>\n",
       "      <td>Andrew Stanton</td>\n",
       "      <td>462.0</td>\n",
       "      <td>132.0</td>\n",
       "      <td>475.0</td>\n",
       "      <td>530.0</td>\n",
       "      <td>Samantha Morton</td>\n",
       "      <td>640.0</td>\n",
       "      <td>73058679.0</td>\n",
       "      <td>Action|Adventure|Sci-Fi</td>\n",
       "      <td>...</td>\n",
       "      <td>738.0</td>\n",
       "      <td>English</td>\n",
       "      <td>USA</td>\n",
       "      <td>PG-13</td>\n",
       "      <td>263700000.0</td>\n",
       "      <td>2012.0</td>\n",
       "      <td>632.0</td>\n",
       "      <td>6.6</td>\n",
       "      <td>2.35</td>\n",
       "      <td>24000;</td>\n",
       "    </tr>\n",
       "    <tr>\n",
       "      <th>6</th>\n",
       "      <td>Color</td>\n",
       "      <td>Sam Raimi</td>\n",
       "      <td>392.0</td>\n",
       "      <td>156.0</td>\n",
       "      <td>0.0</td>\n",
       "      <td>4000.0</td>\n",
       "      <td>James Franco</td>\n",
       "      <td>24000.0</td>\n",
       "      <td>336530303.0</td>\n",
       "      <td>Action|Adventure|Romance</td>\n",
       "      <td>...</td>\n",
       "      <td>1902.0</td>\n",
       "      <td>English</td>\n",
       "      <td>USA</td>\n",
       "      <td>PG-13</td>\n",
       "      <td>258000000.0</td>\n",
       "      <td>2007.0</td>\n",
       "      <td>11000.0</td>\n",
       "      <td>6.2</td>\n",
       "      <td>2.35</td>\n",
       "      <td>0;</td>\n",
       "    </tr>\n",
       "    <tr>\n",
       "      <th>7</th>\n",
       "      <td>Color</td>\n",
       "      <td>Nathan Greno</td>\n",
       "      <td>324.0</td>\n",
       "      <td>100.0</td>\n",
       "      <td>15.0</td>\n",
       "      <td>284.0</td>\n",
       "      <td>Donna Murphy</td>\n",
       "      <td>799.0</td>\n",
       "      <td>200807262.0</td>\n",
       "      <td>Adventure|Animation|Comedy|Family|Fantasy|Musi...</td>\n",
       "      <td>...</td>\n",
       "      <td>387.0</td>\n",
       "      <td>English</td>\n",
       "      <td>USA</td>\n",
       "      <td>PG</td>\n",
       "      <td>260000000.0</td>\n",
       "      <td>2010.0</td>\n",
       "      <td>553.0</td>\n",
       "      <td>7.8</td>\n",
       "      <td>1.85</td>\n",
       "      <td>29000;</td>\n",
       "    </tr>\n",
       "    <tr>\n",
       "      <th>8</th>\n",
       "      <td>Colour</td>\n",
       "      <td>Joss Whedon</td>\n",
       "      <td>635.0</td>\n",
       "      <td>141.0</td>\n",
       "      <td>0.0</td>\n",
       "      <td>19000.0</td>\n",
       "      <td>Robert Downey Jr.</td>\n",
       "      <td>26000.0</td>\n",
       "      <td>458991599.0</td>\n",
       "      <td>Action|Adventure|Sci-Fi</td>\n",
       "      <td>...</td>\n",
       "      <td>1117.0</td>\n",
       "      <td>English</td>\n",
       "      <td>USA</td>\n",
       "      <td>PG-13</td>\n",
       "      <td>250000000.0</td>\n",
       "      <td>2015.0</td>\n",
       "      <td>21000.0</td>\n",
       "      <td>7.5</td>\n",
       "      <td>2.35</td>\n",
       "      <td>118000;</td>\n",
       "    </tr>\n",
       "    <tr>\n",
       "      <th>9</th>\n",
       "      <td>Colour</td>\n",
       "      <td>David Yates</td>\n",
       "      <td>375.0</td>\n",
       "      <td>153.0</td>\n",
       "      <td>282.0</td>\n",
       "      <td>10000.0</td>\n",
       "      <td>Daniel Radcliffe</td>\n",
       "      <td>25000.0</td>\n",
       "      <td>301956980.0</td>\n",
       "      <td>Adventure|Family|Fantasy|Mystery</td>\n",
       "      <td>...</td>\n",
       "      <td>973.0</td>\n",
       "      <td>English</td>\n",
       "      <td>UK</td>\n",
       "      <td>PG</td>\n",
       "      <td>250000000.0</td>\n",
       "      <td>2009.0</td>\n",
       "      <td>11000.0</td>\n",
       "      <td>7.5</td>\n",
       "      <td>2.35</td>\n",
       "      <td>10000;</td>\n",
       "    </tr>\n",
       "  </tbody>\n",
       "</table>\n",
       "<p>10 rows × 28 columns</p>\n",
       "</div>"
      ],
      "text/plain": [
       "    color      Director_Name  num_Critic_for_reviews  duration  \\\n",
       "0   Color      James Cameron                   723.0     178.0   \n",
       "1  Colour     Gore Verbinski                   302.0     169.0   \n",
       "2  Colour         Sam Mendes                   602.0     148.0   \n",
       "3   Color  Christopher Nolan                   813.0     164.0   \n",
       "4     NaN        Doug Walker                     NaN       NaN   \n",
       "5  Colour     Andrew Stanton                   462.0     132.0   \n",
       "6   Color          Sam Raimi                   392.0     156.0   \n",
       "7   Color       Nathan Greno                   324.0     100.0   \n",
       "8  Colour        Joss Whedon                   635.0     141.0   \n",
       "9  Colour        David Yates                   375.0     153.0   \n",
       "\n",
       "   director_Facebook_likes  actor_3_Facebook_likes       actor_2_name  \\\n",
       "0                      0.0                   855.0   Joel David Moore   \n",
       "1                    563.0                  1000.0      Orlando Bloom   \n",
       "2                      0.0                   161.0       Rory Kinnear   \n",
       "3                  22000.0                 23000.0     Christian Bale   \n",
       "4                    131.0                     NaN         Rob Walker   \n",
       "5                    475.0                   530.0    Samantha Morton   \n",
       "6                      0.0                  4000.0       James Franco   \n",
       "7                     15.0                   284.0       Donna Murphy   \n",
       "8                      0.0                 19000.0  Robert Downey Jr.   \n",
       "9                    282.0                 10000.0   Daniel Radcliffe   \n",
       "\n",
       "   Actor_1_Facebook_likes        gross  \\\n",
       "0                  1000.0  760505847.0   \n",
       "1                 40000.0  309404152.0   \n",
       "2                 11000.0  200074175.0   \n",
       "3                 27000.0  448130642.0   \n",
       "4                   131.0          NaN   \n",
       "5                   640.0   73058679.0   \n",
       "6                 24000.0  336530303.0   \n",
       "7                   799.0  200807262.0   \n",
       "8                 26000.0  458991599.0   \n",
       "9                 25000.0  301956980.0   \n",
       "\n",
       "                                              genres  ...  \\\n",
       "0                    Action|Adventure|Fantasy|Sci-Fi  ...   \n",
       "1                           Action|Adventure|Fantasy  ...   \n",
       "2                          Action|Adventure|Thriller  ...   \n",
       "3                                    Action|Thriller  ...   \n",
       "4                                        Documentary  ...   \n",
       "5                            Action|Adventure|Sci-Fi  ...   \n",
       "6                           Action|Adventure|Romance  ...   \n",
       "7  Adventure|Animation|Comedy|Family|Fantasy|Musi...  ...   \n",
       "8                            Action|Adventure|Sci-Fi  ...   \n",
       "9                   Adventure|Family|Fantasy|Mystery  ...   \n",
       "\n",
       "  num_user_for_reviews language  country  content_rating       budget  \\\n",
       "0               3054.0  English      USA           PG-13  237000000.0   \n",
       "1               1238.0  English      USA           PG-13  300000000.0   \n",
       "2                994.0  English       UK           PG-13  245000000.0   \n",
       "3               2701.0  English      USA           PG-13  250000000.0   \n",
       "4                  NaN      NaN      NaN             NaN          NaN   \n",
       "5                738.0  English      USA           PG-13  263700000.0   \n",
       "6               1902.0  English      USA           PG-13  258000000.0   \n",
       "7                387.0  English      USA              PG  260000000.0   \n",
       "8               1117.0  English      USA           PG-13  250000000.0   \n",
       "9                973.0  English       UK              PG  250000000.0   \n",
       "\n",
       "   title_year actor_2_facebook_likes imdb_score  aspect_ratio  \\\n",
       "0      2009.0                  936.0        7.9          1.78   \n",
       "1      2007.0                 5000.0        7.1          2.35   \n",
       "2      2015.0                  393.0        6.8          2.35   \n",
       "3      2012.0                23000.0        8.5          2.35   \n",
       "4         NaN                   12.0        7.1           NaN   \n",
       "5      2012.0                  632.0        6.6          2.35   \n",
       "6      2007.0                11000.0        6.2          2.35   \n",
       "7      2010.0                  553.0        7.8          1.85   \n",
       "8      2015.0                21000.0        7.5          2.35   \n",
       "9      2009.0                11000.0        7.5          2.35   \n",
       "\n",
       "  movie_facebook_likes;  \n",
       "0                33000;  \n",
       "1                    0;  \n",
       "2                85000;  \n",
       "3               164000;  \n",
       "4                    0;  \n",
       "5                24000;  \n",
       "6                    0;  \n",
       "7                29000;  \n",
       "8               118000;  \n",
       "9                10000;  \n",
       "\n",
       "[10 rows x 28 columns]"
      ]
     },
     "execution_count": 12,
     "metadata": {},
     "output_type": "execute_result"
    }
   ],
   "source": [
    "movies_table.head(10)"
   ]
  },
  {
   "cell_type": "markdown",
   "id": "41b345b0-ba63-4faf-b42d-c22f9619fce3",
   "metadata": {},
   "source": [
    "<h1></h1>"
   ]
  },
  {
   "cell_type": "markdown",
   "id": "3a3416ad-625d-47e5-846d-6b0e71a5c225",
   "metadata": {},
   "source": [
    "<h1>Прописываем в пустые ячейки \"unknown\"</h1>"
   ]
  },
  {
   "cell_type": "code",
   "execution_count": 13,
   "id": "cc08b184-df8f-4da0-9cb3-b3fc8f49da8a",
   "metadata": {},
   "outputs": [
    {
     "data": {
      "text/plain": [
       "color                          18\n",
       "Director_Name                 171\n",
       "num_Critic_for_reviews        116\n",
       "duration                       84\n",
       "director_Facebook_likes       171\n",
       "actor_3_Facebook_likes         90\n",
       "actor_2_name                   80\n",
       "Actor_1_Facebook_likes         75\n",
       "gross                         939\n",
       "genres                         69\n",
       "actor_1_name                   75\n",
       "movie_Title                    69\n",
       "num_voted_users                69\n",
       " cast_total_facebook_likes     69\n",
       "actor_3_name                   90\n",
       "facenumber_in_poster           82\n",
       "plot_keywords                 216\n",
       "movie_imdb_link                69\n",
       "num_user_for_reviews           87\n",
       "language                       82\n",
       "country                        72\n",
       "content_rating                366\n",
       "budget                        549\n",
       "title_year                    174\n",
       "actor_2_facebook_likes         80\n",
       "imdb_score                     69\n",
       "aspect_ratio                  389\n",
       "movie_facebook_likes;          69\n",
       "dtype: int64"
      ]
     },
     "execution_count": 13,
     "metadata": {},
     "output_type": "execute_result"
    }
   ],
   "source": [
    "movies_table.isna().sum()"
   ]
  },
  {
   "cell_type": "code",
   "execution_count": 14,
   "id": "4f514c1a-bc0c-4e07-852b-ed6e37172185",
   "metadata": {},
   "outputs": [],
   "source": [
    "columns_to_replace =['title_year', 'gross', 'budget']\n",
    "\n",
    "for row in columns_to_replace:\n",
    "    movies_table[row] = movies_table[row].fillna('unknown')"
   ]
  },
  {
   "cell_type": "code",
   "execution_count": 15,
   "id": "39d5de56-f399-49d4-b405-affad96b7806",
   "metadata": {},
   "outputs": [
    {
     "data": {
      "text/plain": [
       "color                          18\n",
       "Director_Name                 171\n",
       "num_Critic_for_reviews        116\n",
       "duration                       84\n",
       "director_Facebook_likes       171\n",
       "actor_3_Facebook_likes         90\n",
       "actor_2_name                   80\n",
       "Actor_1_Facebook_likes         75\n",
       "gross                           0\n",
       "genres                         69\n",
       "actor_1_name                   75\n",
       "movie_Title                    69\n",
       "num_voted_users                69\n",
       " cast_total_facebook_likes     69\n",
       "actor_3_name                   90\n",
       "facenumber_in_poster           82\n",
       "plot_keywords                 216\n",
       "movie_imdb_link                69\n",
       "num_user_for_reviews           87\n",
       "language                       82\n",
       "country                        72\n",
       "content_rating                366\n",
       "budget                          0\n",
       "title_year                      0\n",
       "actor_2_facebook_likes         80\n",
       "imdb_score                     69\n",
       "aspect_ratio                  389\n",
       "movie_facebook_likes;          69\n",
       "dtype: int64"
      ]
     },
     "execution_count": 15,
     "metadata": {},
     "output_type": "execute_result"
    }
   ],
   "source": [
    "movies_table.isna().sum()"
   ]
  },
  {
   "cell_type": "markdown",
   "id": "bfc956f5-862d-4da1-be46-f23f924cca11",
   "metadata": {},
   "source": [
    "<h1></h1>"
   ]
  },
  {
   "cell_type": "markdown",
   "id": "af1e633c-ae7f-485f-a850-dc5a7c5b4246",
   "metadata": {},
   "source": [
    "<h1>Вычисление валовой и бюджетной стоимости в реальной сумме</h1>"
   ]
  },
  {
   "cell_type": "code",
   "execution_count": 16,
   "id": "27de093f-8858-497c-b23a-71a58ed51eb0",
   "metadata": {},
   "outputs": [],
   "source": [
    "real_domestic_gross = []\n",
    "real_budget_values = []"
   ]
  },
  {
   "cell_type": "code",
   "execution_count": 17,
   "id": "ffbfb7ce-6ea1-43fe-aed7-e6da91be287f",
   "metadata": {},
   "outputs": [
    {
     "name": "stderr",
     "output_type": "stream",
     "text": [
      "C:\\Users\\qwerty\\AppData\\Local\\Temp\\ipykernel_10676\\1815066857.py:9: FutureWarning: Calling float on a single element Series is deprecated and will raise a TypeError in the future. Use float(ser.iloc[0]) instead\n",
      "  cpi = float(cpi_table[cpi_table['year'] == int(year)]['avg_annual_cpi'])\n"
     ]
    }
   ],
   "source": [
    "for index, row in movies_table.iterrows():\n",
    "    gross = row['gross']\n",
    "    budget = row['budget']\n",
    "    year = row['title_year']\n",
    "    if year == \"unknown\"  or gross == \"unknown\" or budget == \"unknown\":\n",
    "        real_domestic_gross.append(gross)\n",
    "        real_budget_values.append(budget)\n",
    "        continue\n",
    "    cpi = float(cpi_table[cpi_table['year'] == int(year)]['avg_annual_cpi'])\n",
    "    \n",
    "    real_gross = get_real_value(gross, cpi, CPI_2017)\n",
    "    real_budget = get_real_value(budget, cpi, CPI_2017)\n",
    "    real_domestic_gross.append(real_gross)\n",
    "    real_budget_values.append(real_budget)\n",
    "movies_table[\"real_domestic_gross\"] = real_domestic_gross\n",
    "movies_table[\"real_budget\"] = real_budget_values"
   ]
  },
  {
   "cell_type": "markdown",
   "id": "70137283-a21a-4b04-a59f-ccc96c4e56a0",
   "metadata": {},
   "source": [
    "<h1></h1>"
   ]
  },
  {
   "cell_type": "markdown",
   "id": "fef95ce4-a093-41b6-a790-de11f3be3340",
   "metadata": {},
   "source": [
    "<h1>Вычисление ROI и абсолютной прибыли</h1>"
   ]
  },
  {
   "cell_type": "code",
   "execution_count": 18,
   "id": "f9a585e4-24d4-4c5a-9828-57b2e5b360bd",
   "metadata": {},
   "outputs": [],
   "source": [
    "profits = []\n",
    "roi_vals = []"
   ]
  },
  {
   "cell_type": "code",
   "execution_count": 19,
   "id": "2859e5db-3032-42c8-94a4-9b24d7d7d25c",
   "metadata": {},
   "outputs": [],
   "source": [
    "for index, row in movies_table.iterrows():\n",
    "    if row[\"real_domestic_gross\"] == \"unknown\" or row['real_budget'] == \"unknown\":\n",
    "        profits.append(\"unknown\")\n",
    "        roi_vals.append(\"unknown\")\n",
    "        continue\n",
    "    profit = row[\"real_domestic_gross\"] - row['real_budget']\n",
    "    budget = row['real_budget']\n",
    "    num = profit - budget\n",
    "    den = budget\n",
    "    roi = (num / den) * 100\n",
    "    \n",
    "    profits.append(profit)\n",
    "    roi_vals.append(roi)\n",
    "\n",
    "movies_table['profit'] = profits\n",
    "movies_table['roi'] = roi_vals"
   ]
  },
  {
   "cell_type": "markdown",
   "id": "d94e5dfc-d12b-495e-ba3d-1add5f7f9e76",
   "metadata": {},
   "source": [
    "<h1></h1>"
   ]
  },
  {
   "cell_type": "markdown",
   "id": "aca939d6-fac1-4fb2-906f-8f5e552da768",
   "metadata": {},
   "source": [
    "<h1>Удаление дубликатов</h1>"
   ]
  },
  {
   "cell_type": "code",
   "execution_count": 20,
   "id": "154e6c3d-69b9-4654-98c1-094784ca4dfe",
   "metadata": {},
   "outputs": [
    {
     "data": {
      "text/plain": [
       "45"
      ]
     },
     "execution_count": 20,
     "metadata": {},
     "output_type": "execute_result"
    }
   ],
   "source": [
    "movies_table.duplicated().sum()"
   ]
  },
  {
   "cell_type": "code",
   "execution_count": 21,
   "id": "1fa81765-de3e-4fe1-a477-d7129ed2a88a",
   "metadata": {},
   "outputs": [],
   "source": [
    "movies_table = movies_table.drop_duplicates().reset_index(drop=True)"
   ]
  },
  {
   "cell_type": "code",
   "execution_count": 22,
   "id": "5beb8e90-7d22-463f-a543-4e13c1bf1997",
   "metadata": {},
   "outputs": [
    {
     "data": {
      "text/plain": [
       "0"
      ]
     },
     "execution_count": 22,
     "metadata": {},
     "output_type": "execute_result"
    }
   ],
   "source": [
    "movies_table.duplicated().sum()"
   ]
  },
  {
   "cell_type": "markdown",
   "id": "d356cb46-0a99-4de5-8206-082ceb4658ff",
   "metadata": {},
   "source": [
    "<h1></h1>"
   ]
  },
  {
   "cell_type": "markdown",
   "id": "4be002ad-9bde-410f-891d-80138dc7f53d",
   "metadata": {},
   "source": [
    "<h1>Гипотезы</h1>"
   ]
  },
  {
   "cell_type": "markdown",
   "id": "27b17e1b-a599-4833-b760-2758eb2de9bc",
   "metadata": {},
   "source": [
    "1. Большая часть фильмов окупилась \n",
    "2. Action - самый чаcтый жанр\n",
    "3. Средняя оценка фильмов 6.5 +- 0.2\n"
   ]
  },
  {
   "cell_type": "markdown",
   "id": "26761fe5-cb1a-46e3-9f26-2c2b6af56249",
   "metadata": {},
   "source": [
    "<h2>Проверка первой гипотезы</h2>"
   ]
  },
  {
   "cell_type": "code",
   "execution_count": 23,
   "id": "6b1a1606-bd1d-48c3-913d-0a5435b18170",
   "metadata": {},
   "outputs": [
    {
     "name": "stdout",
     "output_type": "stream",
     "text": [
      "52.584623458409865\n"
     ]
    }
   ],
   "source": [
    "count_profit_films = 0\n",
    "count_films = 0\n",
    "for index, row in movies_table.iterrows():\n",
    "    if row['profit'] == \"unknown\":\n",
    "        continue\n",
    "    if row['profit'] > 0:\n",
    "        count_profit_films += 1\n",
    "    count_films += 1\n",
    "\n",
    "print((count_profit_films * 100) / count_films)"
   ]
  },
  {
   "cell_type": "markdown",
   "id": "53cf3fe6-e13a-4b08-aa22-7561b73cd99e",
   "metadata": {},
   "source": [
    "Из волученного результата видно, что 52.58% фильмов окупились."
   ]
  },
  {
   "cell_type": "markdown",
   "id": "4368458b-4bef-44be-acd4-78c4e344e8a6",
   "metadata": {},
   "source": [
    "<h2>Проверка второй гипотезы</h2>"
   ]
  },
  {
   "cell_type": "code",
   "execution_count": 24,
   "id": "c7260c84-8d57-44bb-831a-5200c1e6471d",
   "metadata": {},
   "outputs": [],
   "source": [
    "popularity_of_genres = dict()\n",
    "for index, row in movies_table.iterrows():\n",
    "    if not isinstance(row['genres'], str):\n",
    "        continue\n",
    "    for genre in row['genres'].split('|'):\n",
    "        if genre not in popularity_of_genres:\n",
    "            popularity_of_genres[genre] = 1\n",
    "        else:\n",
    "            popularity_of_genres[genre] += 1\n",
    "\n",
    "popularity_of_genres = pd.DataFrame.from_dict(popularity_of_genres, orient='index', columns=['popularity'])\n",
    "        "
   ]
  },
  {
   "cell_type": "code",
   "execution_count": 25,
   "id": "48d3f9d1-dd72-4ff1-86cd-a43a4d73974d",
   "metadata": {},
   "outputs": [
    {
     "data": {
      "text/html": [
       "<div>\n",
       "<style scoped>\n",
       "    .dataframe tbody tr th:only-of-type {\n",
       "        vertical-align: middle;\n",
       "    }\n",
       "\n",
       "    .dataframe tbody tr th {\n",
       "        vertical-align: top;\n",
       "    }\n",
       "\n",
       "    .dataframe thead th {\n",
       "        text-align: right;\n",
       "    }\n",
       "</style>\n",
       "<table border=\"1\" class=\"dataframe\">\n",
       "  <thead>\n",
       "    <tr style=\"text-align: right;\">\n",
       "      <th></th>\n",
       "      <th>popularity</th>\n",
       "    </tr>\n",
       "  </thead>\n",
       "  <tbody>\n",
       "    <tr>\n",
       "      <th>Drama</th>\n",
       "      <td>2543</td>\n",
       "    </tr>\n",
       "    <tr>\n",
       "      <th>Comedy</th>\n",
       "      <td>1826</td>\n",
       "    </tr>\n",
       "    <tr>\n",
       "      <th>Thriller</th>\n",
       "      <td>1389</td>\n",
       "    </tr>\n",
       "    <tr>\n",
       "      <th>Action</th>\n",
       "      <td>1134</td>\n",
       "    </tr>\n",
       "    <tr>\n",
       "      <th>Romance</th>\n",
       "      <td>1081</td>\n",
       "    </tr>\n",
       "  </tbody>\n",
       "</table>\n",
       "</div>"
      ],
      "text/plain": [
       "          popularity\n",
       "Drama           2543\n",
       "Comedy          1826\n",
       "Thriller        1389\n",
       "Action          1134\n",
       "Romance         1081"
      ]
     },
     "execution_count": 25,
     "metadata": {},
     "output_type": "execute_result"
    }
   ],
   "source": [
    "popularity_of_genres = popularity_of_genres.sort_values(by=['popularity'], ascending=False)\n",
    "popularity_of_genres.head()"
   ]
  },
  {
   "cell_type": "markdown",
   "id": "729ace57-d682-4b2e-b7ee-c9b4df11b6a7",
   "metadata": {},
   "source": [
    "По таблице видно, что гипотеза оказалась ошибочной, и самый частый жанр - Drama"
   ]
  },
  {
   "cell_type": "markdown",
   "id": "0b057f14-8e15-405f-b8fe-6192c2b71180",
   "metadata": {},
   "source": [
    "<h2>Проверка третий гипотезы</h2>"
   ]
  },
  {
   "cell_type": "code",
   "execution_count": 26,
   "id": "79738d1a-a050-4539-96c7-23a3c6721bc6",
   "metadata": {},
   "outputs": [
    {
     "name": "stdout",
     "output_type": "stream",
     "text": [
      "6.438498985801217\n"
     ]
    }
   ],
   "source": [
    "print(movies_table['imdb_score'].mean(numeric_only=True))"
   ]
  },
  {
   "cell_type": "markdown",
   "id": "b6a544bd-f7a4-4493-ad91-3dd2a81b7cb4",
   "metadata": {},
   "source": [
    "Средняя оценка за фильм 6.4. Гипотеза подтверждена."
   ]
  },
  {
   "cell_type": "markdown",
   "id": "eddd4732-fe14-4c95-b67f-0b4914311925",
   "metadata": {},
   "source": [
    "<h1>Доп. Задание</h1>"
   ]
  },
  {
   "cell_type": "code",
   "execution_count": null,
   "id": "2d4fbead-92a4-4a71-a769-e1f661fdd853",
   "metadata": {},
   "outputs": [],
   "source": [
    "pivot_table = df.pivot_table(index=['city', 'genre'], aggfunc='count', values='track')"
   ]
  }
 ],
 "metadata": {
  "kernelspec": {
   "display_name": "Python 3 (ipykernel)",
   "language": "python",
   "name": "python3"
  },
  "language_info": {
   "codemirror_mode": {
    "name": "ipython",
    "version": 3
   },
   "file_extension": ".py",
   "mimetype": "text/x-python",
   "name": "python",
   "nbconvert_exporter": "python",
   "pygments_lexer": "ipython3",
   "version": "3.10.5"
  }
 },
 "nbformat": 4,
 "nbformat_minor": 5
}
